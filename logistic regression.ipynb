{
 "cells": [
  {
   "cell_type": "code",
   "execution_count": 1,
   "metadata": {},
   "outputs": [],
   "source": [
    "# This Python 3 environment comes with many helpful analytics libraries installed\n",
    "# It is defined by the kaggle/python docker image: https://github.com/kaggle/docker-python\n",
    "# For example, here's several helpful packages to load in \n",
    "\n",
    "import numpy as np # linear algebra\n",
    "import pandas as pd # data processing, CSV file I/O (e.g. pd.read_csv)\n",
    "\n",
    "# Input data files are available in the \"../input/\" directory.\n",
    "# For example, running this (by clicking run or pressing Shift+Enter) will list the files in the input directory\n",
    "\n",
    "import os\n",
    "# print(os.listdir(\"../input\"))\n",
    "\n"
   ]
  },
  {
   "cell_type": "code",
   "execution_count": 2,
   "metadata": {},
   "outputs": [
    {
     "name": "stderr",
     "output_type": "stream",
     "text": [
      "[nltk_data] Downloading package stopwords to\n",
      "[nltk_data]     C:\\Users\\dimik\\AppData\\Roaming\\nltk_data...\n",
      "[nltk_data]   Package stopwords is already up-to-date!\n"
     ]
    }
   ],
   "source": [
    "import re\n",
    "import matplotlib.pyplot as plt\n",
    "from nltk.corpus import stopwords\n",
    "from nltk.stem import PorterStemmer\n",
    "from sklearn.feature_extraction.text import TfidfVectorizer\n",
    "from sklearn.pipeline import Pipeline\n",
    "from sklearn.metrics import classification_report, confusion_matrix\n",
    "from sklearn.model_selection import train_test_split\n",
    "from sklearn.feature_selection import SelectKBest, chi2\n",
    "from sqlite3 import Error\n",
    "from sklearn.ensemble import RandomForestClassifier\n",
    "import sqlite3\n",
    "import pickle\n",
    "import nltk\n",
    "nltk.download('stopwords')\n",
    "%matplotlib inline"
   ]
  },
  {
   "cell_type": "code",
   "execution_count": 3,
   "metadata": {},
   "outputs": [
    {
     "data": {
      "text/html": [
       "<div>\n",
       "<style scoped>\n",
       "    .dataframe tbody tr th:only-of-type {\n",
       "        vertical-align: middle;\n",
       "    }\n",
       "\n",
       "    .dataframe tbody tr th {\n",
       "        vertical-align: top;\n",
       "    }\n",
       "\n",
       "    .dataframe thead th {\n",
       "        text-align: right;\n",
       "    }\n",
       "</style>\n",
       "<table border=\"1\" class=\"dataframe\">\n",
       "  <thead>\n",
       "    <tr style=\"text-align: right;\">\n",
       "      <th></th>\n",
       "      <th>Unnamed: 0</th>\n",
       "      <th>title</th>\n",
       "      <th>text</th>\n",
       "      <th>subject</th>\n",
       "      <th>date</th>\n",
       "      <th>label</th>\n",
       "    </tr>\n",
       "  </thead>\n",
       "  <tbody>\n",
       "    <tr>\n",
       "      <th>0</th>\n",
       "      <td>0</td>\n",
       "      <td>Obama’s Delusion Continues In Vapid Address To...</td>\n",
       "      <td>Obama addressed the Nation In a nothing burger...</td>\n",
       "      <td>politics</td>\n",
       "      <td>Dec 6, 2015</td>\n",
       "      <td>0</td>\n",
       "    </tr>\n",
       "    <tr>\n",
       "      <th>1</th>\n",
       "      <td>1</td>\n",
       "      <td>Huge blast in China's Ningbo city kills at lea...</td>\n",
       "      <td>BEIJING (Reuters) - A powerful explosion in a ...</td>\n",
       "      <td>worldnews</td>\n",
       "      <td>November 26, 2017</td>\n",
       "      <td>1</td>\n",
       "    </tr>\n",
       "    <tr>\n",
       "      <th>2</th>\n",
       "      <td>2</td>\n",
       "      <td>Trump applauds senators for new healthcare ref...</td>\n",
       "      <td>WASHINGTON (Reuters) - President Donald Trump ...</td>\n",
       "      <td>politicsNews</td>\n",
       "      <td>September 13, 2017</td>\n",
       "      <td>1</td>\n",
       "    </tr>\n",
       "    <tr>\n",
       "      <th>3</th>\n",
       "      <td>3</td>\n",
       "      <td>UAW chief says Clinton told him she would rene...</td>\n",
       "      <td>(Reuters) - United Auto Workers President Denn...</td>\n",
       "      <td>politicsNews</td>\n",
       "      <td>July 26, 2016</td>\n",
       "      <td>1</td>\n",
       "    </tr>\n",
       "    <tr>\n",
       "      <th>4</th>\n",
       "      <td>4</td>\n",
       "      <td>The Las Vegas Mass Shooting – More to the Stor...</td>\n",
       "      <td>Shawn Helton 21st Century WireAlthough many ar...</td>\n",
       "      <td>US_News</td>\n",
       "      <td>October 12, 2017</td>\n",
       "      <td>0</td>\n",
       "    </tr>\n",
       "  </tbody>\n",
       "</table>\n",
       "</div>"
      ],
      "text/plain": [
       "   Unnamed: 0                                              title  \\\n",
       "0           0  Obama’s Delusion Continues In Vapid Address To...   \n",
       "1           1  Huge blast in China's Ningbo city kills at lea...   \n",
       "2           2  Trump applauds senators for new healthcare ref...   \n",
       "3           3  UAW chief says Clinton told him she would rene...   \n",
       "4           4  The Las Vegas Mass Shooting – More to the Stor...   \n",
       "\n",
       "                                                text       subject  \\\n",
       "0  Obama addressed the Nation In a nothing burger...      politics   \n",
       "1  BEIJING (Reuters) - A powerful explosion in a ...     worldnews   \n",
       "2  WASHINGTON (Reuters) - President Donald Trump ...  politicsNews   \n",
       "3  (Reuters) - United Auto Workers President Denn...  politicsNews   \n",
       "4  Shawn Helton 21st Century WireAlthough many ar...       US_News   \n",
       "\n",
       "                  date  label  \n",
       "0          Dec 6, 2015      0  \n",
       "1   November 26, 2017       1  \n",
       "2  September 13, 2017       1  \n",
       "3       July 26, 2016       1  \n",
       "4     October 12, 2017      0  "
      ]
     },
     "execution_count": 3,
     "metadata": {},
     "output_type": "execute_result"
    }
   ],
   "source": [
    "\n",
    "\n",
    "dataset = pd.read_csv('./train.csv')\n",
    "dataset.head()\n",
    "\n"
   ]
  },
  {
   "cell_type": "code",
   "execution_count": 5,
   "metadata": {},
   "outputs": [
    {
     "name": "stderr",
     "output_type": "stream",
     "text": [
      "[nltk_data] Downloading package stopwords to\n",
      "[nltk_data]     C:\\Users\\dimik\\AppData\\Roaming\\nltk_data...\n",
      "[nltk_data]   Package stopwords is already up-to-date!\n"
     ]
    }
   ],
   "source": [
    "\n",
    "\n",
    "nltk.download('stopwords')\n",
    "stemmer = PorterStemmer()\n",
    "words = stopwords.words(\"english\")\n",
    "dataset['cleaned'] = dataset['text'].apply(lambda x: \" \".join([stemmer.stem(i) for i in re.sub(\"[^a-zA-Z]\", \" \", x).split() if i not in words]).lower())\n",
    "\n"
   ]
  },
  {
   "cell_type": "code",
   "execution_count": 6,
   "metadata": {},
   "outputs": [
    {
     "data": {
      "text/html": [
       "<div>\n",
       "<style scoped>\n",
       "    .dataframe tbody tr th:only-of-type {\n",
       "        vertical-align: middle;\n",
       "    }\n",
       "\n",
       "    .dataframe tbody tr th {\n",
       "        vertical-align: top;\n",
       "    }\n",
       "\n",
       "    .dataframe thead th {\n",
       "        text-align: right;\n",
       "    }\n",
       "</style>\n",
       "<table border=\"1\" class=\"dataframe\">\n",
       "  <thead>\n",
       "    <tr style=\"text-align: right;\">\n",
       "      <th></th>\n",
       "      <th>Unnamed: 0</th>\n",
       "      <th>title</th>\n",
       "      <th>text</th>\n",
       "      <th>subject</th>\n",
       "      <th>date</th>\n",
       "      <th>label</th>\n",
       "      <th>cleaned</th>\n",
       "    </tr>\n",
       "  </thead>\n",
       "  <tbody>\n",
       "    <tr>\n",
       "      <th>0</th>\n",
       "      <td>0</td>\n",
       "      <td>Obama’s Delusion Continues In Vapid Address To...</td>\n",
       "      <td>Obama addressed the Nation In a nothing burger...</td>\n",
       "      <td>politics</td>\n",
       "      <td>Dec 6, 2015</td>\n",
       "      <td>0</td>\n",
       "      <td>obama address nation in noth burger jumbl jarg...</td>\n",
       "    </tr>\n",
       "    <tr>\n",
       "      <th>1</th>\n",
       "      <td>1</td>\n",
       "      <td>Huge blast in China's Ningbo city kills at lea...</td>\n",
       "      <td>BEIJING (Reuters) - A powerful explosion in a ...</td>\n",
       "      <td>worldnews</td>\n",
       "      <td>November 26, 2017</td>\n",
       "      <td>1</td>\n",
       "      <td>beij reuter a power explos chines citi south s...</td>\n",
       "    </tr>\n",
       "    <tr>\n",
       "      <th>2</th>\n",
       "      <td>2</td>\n",
       "      <td>Trump applauds senators for new healthcare ref...</td>\n",
       "      <td>WASHINGTON (Reuters) - President Donald Trump ...</td>\n",
       "      <td>politicsNews</td>\n",
       "      <td>September 13, 2017</td>\n",
       "      <td>1</td>\n",
       "      <td>washington reuter presid donald trump applaud ...</td>\n",
       "    </tr>\n",
       "    <tr>\n",
       "      <th>3</th>\n",
       "      <td>3</td>\n",
       "      <td>UAW chief says Clinton told him she would rene...</td>\n",
       "      <td>(Reuters) - United Auto Workers President Denn...</td>\n",
       "      <td>politicsNews</td>\n",
       "      <td>July 26, 2016</td>\n",
       "      <td>1</td>\n",
       "      <td>reuter unit auto worker presid denni william s...</td>\n",
       "    </tr>\n",
       "    <tr>\n",
       "      <th>4</th>\n",
       "      <td>4</td>\n",
       "      <td>The Las Vegas Mass Shooting – More to the Stor...</td>\n",
       "      <td>Shawn Helton 21st Century WireAlthough many ar...</td>\n",
       "      <td>US_News</td>\n",
       "      <td>October 12, 2017</td>\n",
       "      <td>0</td>\n",
       "      <td>shawn helton st centuri wirealthough mani stil...</td>\n",
       "    </tr>\n",
       "  </tbody>\n",
       "</table>\n",
       "</div>"
      ],
      "text/plain": [
       "   Unnamed: 0                                              title  \\\n",
       "0           0  Obama’s Delusion Continues In Vapid Address To...   \n",
       "1           1  Huge blast in China's Ningbo city kills at lea...   \n",
       "2           2  Trump applauds senators for new healthcare ref...   \n",
       "3           3  UAW chief says Clinton told him she would rene...   \n",
       "4           4  The Las Vegas Mass Shooting – More to the Stor...   \n",
       "\n",
       "                                                text       subject  \\\n",
       "0  Obama addressed the Nation In a nothing burger...      politics   \n",
       "1  BEIJING (Reuters) - A powerful explosion in a ...     worldnews   \n",
       "2  WASHINGTON (Reuters) - President Donald Trump ...  politicsNews   \n",
       "3  (Reuters) - United Auto Workers President Denn...  politicsNews   \n",
       "4  Shawn Helton 21st Century WireAlthough many ar...       US_News   \n",
       "\n",
       "                  date  label  \\\n",
       "0          Dec 6, 2015      0   \n",
       "1   November 26, 2017       1   \n",
       "2  September 13, 2017       1   \n",
       "3       July 26, 2016       1   \n",
       "4     October 12, 2017      0   \n",
       "\n",
       "                                             cleaned  \n",
       "0  obama address nation in noth burger jumbl jarg...  \n",
       "1  beij reuter a power explos chines citi south s...  \n",
       "2  washington reuter presid donald trump applaud ...  \n",
       "3  reuter unit auto worker presid denni william s...  \n",
       "4  shawn helton st centuri wirealthough mani stil...  "
      ]
     },
     "execution_count": 6,
     "metadata": {},
     "output_type": "execute_result"
    }
   ],
   "source": [
    "\n",
    "\n",
    "dataset.head()\n",
    "\n"
   ]
  },
  {
   "cell_type": "code",
   "execution_count": 15,
   "metadata": {},
   "outputs": [
    {
     "data": {
      "text/plain": [
       "(100, 1731)"
      ]
     },
     "execution_count": 15,
     "metadata": {},
     "output_type": "execute_result"
    }
   ],
   "source": [
    "from sklearn.feature_extraction.text import CountVectorizer\n",
    "\n",
    "vectorizer = TfidfVectorizer(min_df= 3, stop_words=\"english\", sublinear_tf=True, norm='l2', ngram_range=(1, 2))\n",
    "final_features = vectorizer.fit_transform(dataset['cleaned']).toarray()\n",
    "\n",
    "# vectorizer = CountVectorizer() \n",
    "# final_features = vectorizer.fit_transform(dataset['cleaned']).toarray()\n",
    "final_features.shape\n",
    "\n"
   ]
  },
  {
   "cell_type": "code",
   "execution_count": 16,
   "metadata": {},
   "outputs": [
    {
     "name": "stdout",
     "output_type": "stream",
     "text": [
      "              precision    recall  f1-score   support\n",
      "\n",
      "           0       1.00      0.50      0.67        12\n",
      "           1       0.68      1.00      0.81        13\n",
      "\n",
      "    accuracy                           0.76        25\n",
      "   macro avg       0.84      0.75      0.74        25\n",
      "weighted avg       0.84      0.76      0.74        25\n",
      "\n",
      "[[ 6  6]\n",
      " [ 0 13]]\n"
     ]
    }
   ],
   "source": [
    "\n",
    "\n",
    "from sklearn.linear_model import LogisticRegression\n",
    "X = dataset['cleaned']\n",
    "Y = dataset['label']\n",
    "X_train, X_test, y_train, y_test = train_test_split(X, Y, test_size=0.25)\n",
    "\n",
    "pipeline = Pipeline([('vect', vectorizer),\n",
    "                     ('chi',  SelectKBest(chi2, k=1200)),\n",
    "                     ('clf', LogisticRegression(random_state=0))])\n",
    "\n",
    "model = pipeline.fit(X_train, y_train)\n",
    "with open('LogisticRegression.pickle', 'wb') as f:\n",
    "    pickle.dump(model, f)\n",
    "\n",
    "ytest = np.array(y_test)\n",
    "\n",
    "# confusion matrix and classification report(precision, recall, F1-score)\n",
    "print(classification_report(ytest, model.predict(X_test)))\n",
    "print(confusion_matrix(ytest, model.predict(X_test)))\n",
    "\n"
   ]
  },
  {
   "cell_type": "code",
   "execution_count": 17,
   "metadata": {},
   "outputs": [
    {
     "name": "stdout",
     "output_type": "stream",
     "text": [
      "              precision    recall  f1-score   support\n",
      "\n",
      "           0       1.00      0.82      0.90        11\n",
      "           1       0.88      1.00      0.93        14\n",
      "\n",
      "    accuracy                           0.92        25\n",
      "   macro avg       0.94      0.91      0.92        25\n",
      "weighted avg       0.93      0.92      0.92        25\n",
      "\n",
      "[[ 9  2]\n",
      " [ 0 14]]\n"
     ]
    }
   ],
   "source": [
    "\n",
    "\n",
    "from sklearn.linear_model import LogisticRegression\n",
    "X = dataset['cleaned']\n",
    "Y = dataset['label']\n",
    "X_train, X_test, y_train, y_test = train_test_split(X, Y, test_size=0.25)\n",
    "\n",
    "pipeline = Pipeline([('vect', vectorizer),\n",
    "                     ('chi',  SelectKBest(chi2, k=1200)),\n",
    "                     ('clf', LogisticRegression(random_state=0))])\n",
    "\n",
    "model = pipeline.fit(X_train, y_train)\n",
    "with open('LogisticRegression.pickle', 'wb') as f:\n",
    "    pickle.dump(model, f)\n",
    "\n",
    "ytest = np.array(y_test)\n",
    "\n",
    "# confusion matrix and classification report(precision, recall, F1-score)\n",
    "print(classification_report(ytest, model.predict(X_test)))\n",
    "print(confusion_matrix(ytest, model.predict(X_test)))\n",
    "\n"
   ]
  },
  {
   "cell_type": "code",
   "execution_count": null,
   "metadata": {},
   "outputs": [],
   "source": [
    "\n",
    "\n"
   ]
  },
  {
   "cell_type": "code",
   "execution_count": null,
   "metadata": {},
   "outputs": [],
   "source": []
  }
 ],
 "metadata": {
  "kernelspec": {
   "display_name": "Python 3",
   "language": "python",
   "name": "python3"
  },
  "language_info": {
   "codemirror_mode": {
    "name": "ipython",
    "version": 3
   },
   "file_extension": ".py",
   "mimetype": "text/x-python",
   "name": "python",
   "nbconvert_exporter": "python",
   "pygments_lexer": "ipython3",
   "version": "3.8.5"
  }
 },
 "nbformat": 4,
 "nbformat_minor": 4
}
