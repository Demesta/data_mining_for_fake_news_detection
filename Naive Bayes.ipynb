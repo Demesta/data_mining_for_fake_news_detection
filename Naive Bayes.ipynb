{
 "cells": [
  {
   "cell_type": "code",
   "execution_count": 1,
   "metadata": {},
   "outputs": [],
   "source": [
    "import numpy as np # linear algebra\n",
    "import pandas as pd # data processing\n",
    "\n",
    "import os"
   ]
  },
  {
   "cell_type": "code",
   "execution_count": 5,
   "metadata": {},
   "outputs": [
    {
     "name": "stderr",
     "output_type": "stream",
     "text": [
      "[nltk_data] Downloading package punkt to\n",
      "[nltk_data]     C:\\Users\\dimik\\AppData\\Roaming\\nltk_data...\n",
      "[nltk_data]   Package punkt is already up-to-date!\n",
      "[nltk_data] Downloading package wordnet to\n",
      "[nltk_data]     C:\\Users\\dimik\\AppData\\Roaming\\nltk_data...\n",
      "[nltk_data]   Package wordnet is already up-to-date!\n"
     ]
    }
   ],
   "source": [
    "import matplotlib.pyplot as plt\n",
    "import seaborn as sns\n",
    "\n",
    "nltk.download('punkt')\n",
    "nltk.download('wordnet')\n",
    "\n",
    "import nltk\n",
    "from nltk.tokenize import word_tokenize\n",
    "from nltk.corpus import stopwords\n",
    "from nltk.stem import WordNetLemmatizer\n",
    "\n",
    "# We will visualize the messages with a word cloud\n",
    "from wordcloud import WordCloud\n",
    "\n",
    "# Multinomial Naive Bayes Classifier\n",
    "from sklearn.naive_bayes import MultinomialNB\n",
    "\n",
    "# Import Tf-idf Vectorizer\n",
    "from sklearn.feature_extraction.text import TfidfVectorizer\n",
    "\n",
    "# Import the Label Encoder\n",
    "from sklearn.preprocessing import LabelEncoder\n",
    "\n",
    "# Import the train test split\n",
    "from sklearn.model_selection import train_test_split\n",
    "\n",
    "# To evaluate our model\n",
    "from sklearn.metrics import accuracy_score\n",
    "from sklearn.metrics import confusion_matrix\n",
    "from sklearn.metrics import classification_report\n",
    "from sklearn.metrics import roc_curve, auc\n",
    "from sklearn.metrics import roc_auc_score\n",
    "\n",
    "# I will keep the resulting plots\n",
    "%matplotlib inline\n",
    "\n",
    "# Enable Jupyter Notebook's intellisense\n",
    "%config IPCompleter.greedy=True"
   ]
  },
  {
   "cell_type": "code",
   "execution_count": 7,
   "metadata": {},
   "outputs": [],
   "source": [
    "# Load the data\n",
    "data = pd.read_csv('train.csv')"
   ]
  },
  {
   "cell_type": "code",
   "execution_count": 8,
   "metadata": {},
   "outputs": [
    {
     "data": {
      "text/html": [
       "<div>\n",
       "<style scoped>\n",
       "    .dataframe tbody tr th:only-of-type {\n",
       "        vertical-align: middle;\n",
       "    }\n",
       "\n",
       "    .dataframe tbody tr th {\n",
       "        vertical-align: top;\n",
       "    }\n",
       "\n",
       "    .dataframe thead th {\n",
       "        text-align: right;\n",
       "    }\n",
       "</style>\n",
       "<table border=\"1\" class=\"dataframe\">\n",
       "  <thead>\n",
       "    <tr style=\"text-align: right;\">\n",
       "      <th></th>\n",
       "      <th>Unnamed: 0</th>\n",
       "      <th>title</th>\n",
       "      <th>text</th>\n",
       "      <th>subject</th>\n",
       "      <th>date</th>\n",
       "      <th>label</th>\n",
       "    </tr>\n",
       "  </thead>\n",
       "  <tbody>\n",
       "    <tr>\n",
       "      <th>0</th>\n",
       "      <td>0</td>\n",
       "      <td>Obama’s Delusion Continues In Vapid Address To...</td>\n",
       "      <td>Obama addressed the Nation In a nothing burger...</td>\n",
       "      <td>politics</td>\n",
       "      <td>Dec 6, 2015</td>\n",
       "      <td>0</td>\n",
       "    </tr>\n",
       "    <tr>\n",
       "      <th>1</th>\n",
       "      <td>1</td>\n",
       "      <td>Huge blast in China's Ningbo city kills at lea...</td>\n",
       "      <td>BEIJING (Reuters) - A powerful explosion in a ...</td>\n",
       "      <td>worldnews</td>\n",
       "      <td>November 26, 2017</td>\n",
       "      <td>1</td>\n",
       "    </tr>\n",
       "    <tr>\n",
       "      <th>2</th>\n",
       "      <td>2</td>\n",
       "      <td>Trump applauds senators for new healthcare ref...</td>\n",
       "      <td>WASHINGTON (Reuters) - President Donald Trump ...</td>\n",
       "      <td>politicsNews</td>\n",
       "      <td>September 13, 2017</td>\n",
       "      <td>1</td>\n",
       "    </tr>\n",
       "    <tr>\n",
       "      <th>3</th>\n",
       "      <td>3</td>\n",
       "      <td>UAW chief says Clinton told him she would rene...</td>\n",
       "      <td>(Reuters) - United Auto Workers President Denn...</td>\n",
       "      <td>politicsNews</td>\n",
       "      <td>July 26, 2016</td>\n",
       "      <td>1</td>\n",
       "    </tr>\n",
       "    <tr>\n",
       "      <th>4</th>\n",
       "      <td>4</td>\n",
       "      <td>The Las Vegas Mass Shooting – More to the Stor...</td>\n",
       "      <td>Shawn Helton 21st Century WireAlthough many ar...</td>\n",
       "      <td>US_News</td>\n",
       "      <td>October 12, 2017</td>\n",
       "      <td>0</td>\n",
       "    </tr>\n",
       "  </tbody>\n",
       "</table>\n",
       "</div>"
      ],
      "text/plain": [
       "   Unnamed: 0                                              title  \\\n",
       "0           0  Obama’s Delusion Continues In Vapid Address To...   \n",
       "1           1  Huge blast in China's Ningbo city kills at lea...   \n",
       "2           2  Trump applauds senators for new healthcare ref...   \n",
       "3           3  UAW chief says Clinton told him she would rene...   \n",
       "4           4  The Las Vegas Mass Shooting – More to the Stor...   \n",
       "\n",
       "                                                text       subject  \\\n",
       "0  Obama addressed the Nation In a nothing burger...      politics   \n",
       "1  BEIJING (Reuters) - A powerful explosion in a ...     worldnews   \n",
       "2  WASHINGTON (Reuters) - President Donald Trump ...  politicsNews   \n",
       "3  (Reuters) - United Auto Workers President Denn...  politicsNews   \n",
       "4  Shawn Helton 21st Century WireAlthough many ar...       US_News   \n",
       "\n",
       "                  date  label  \n",
       "0          Dec 6, 2015      0  \n",
       "1   November 26, 2017       1  \n",
       "2  September 13, 2017       1  \n",
       "3       July 26, 2016       1  \n",
       "4     October 12, 2017      0  "
      ]
     },
     "metadata": {},
     "output_type": "display_data"
    },
    {
     "data": {
      "text/html": [
       "<div>\n",
       "<style scoped>\n",
       "    .dataframe tbody tr th:only-of-type {\n",
       "        vertical-align: middle;\n",
       "    }\n",
       "\n",
       "    .dataframe tbody tr th {\n",
       "        vertical-align: top;\n",
       "    }\n",
       "\n",
       "    .dataframe thead th {\n",
       "        text-align: right;\n",
       "    }\n",
       "</style>\n",
       "<table border=\"1\" class=\"dataframe\">\n",
       "  <thead>\n",
       "    <tr style=\"text-align: right;\">\n",
       "      <th></th>\n",
       "      <th>Unnamed: 0</th>\n",
       "      <th>label</th>\n",
       "    </tr>\n",
       "  </thead>\n",
       "  <tbody>\n",
       "    <tr>\n",
       "      <th>count</th>\n",
       "      <td>100.000000</td>\n",
       "      <td>100.000000</td>\n",
       "    </tr>\n",
       "    <tr>\n",
       "      <th>mean</th>\n",
       "      <td>49.500000</td>\n",
       "      <td>0.540000</td>\n",
       "    </tr>\n",
       "    <tr>\n",
       "      <th>std</th>\n",
       "      <td>29.011492</td>\n",
       "      <td>0.500908</td>\n",
       "    </tr>\n",
       "    <tr>\n",
       "      <th>min</th>\n",
       "      <td>0.000000</td>\n",
       "      <td>0.000000</td>\n",
       "    </tr>\n",
       "    <tr>\n",
       "      <th>25%</th>\n",
       "      <td>24.750000</td>\n",
       "      <td>0.000000</td>\n",
       "    </tr>\n",
       "    <tr>\n",
       "      <th>50%</th>\n",
       "      <td>49.500000</td>\n",
       "      <td>1.000000</td>\n",
       "    </tr>\n",
       "    <tr>\n",
       "      <th>75%</th>\n",
       "      <td>74.250000</td>\n",
       "      <td>1.000000</td>\n",
       "    </tr>\n",
       "    <tr>\n",
       "      <th>max</th>\n",
       "      <td>99.000000</td>\n",
       "      <td>1.000000</td>\n",
       "    </tr>\n",
       "  </tbody>\n",
       "</table>\n",
       "</div>"
      ],
      "text/plain": [
       "       Unnamed: 0       label\n",
       "count  100.000000  100.000000\n",
       "mean    49.500000    0.540000\n",
       "std     29.011492    0.500908\n",
       "min      0.000000    0.000000\n",
       "25%     24.750000    0.000000\n",
       "50%     49.500000    1.000000\n",
       "75%     74.250000    1.000000\n",
       "max     99.000000    1.000000"
      ]
     },
     "metadata": {},
     "output_type": "display_data"
    },
    {
     "name": "stdout",
     "output_type": "stream",
     "text": [
      "<class 'pandas.core.frame.DataFrame'>\n",
      "RangeIndex: 100 entries, 0 to 99\n",
      "Data columns (total 6 columns):\n",
      " #   Column      Non-Null Count  Dtype \n",
      "---  ------      --------------  ----- \n",
      " 0   Unnamed: 0  100 non-null    int64 \n",
      " 1   title       100 non-null    object\n",
      " 2   text        100 non-null    object\n",
      " 3   subject     100 non-null    object\n",
      " 4   date        100 non-null    object\n",
      " 5   label       100 non-null    int64 \n",
      "dtypes: int64(2), object(4)\n",
      "memory usage: 4.8+ KB\n",
      "None\n"
     ]
    }
   ],
   "source": [
    "# Display firt five rows\n",
    "display(data.head())\n",
    "\n",
    "# Display the summary statistics\n",
    "display(data.describe())\n",
    "\n",
    "# Print the info\n",
    "print(data.info())"
   ]
  },
  {
   "cell_type": "code",
   "execution_count": 9,
   "metadata": {},
   "outputs": [
    {
     "name": "stdout",
     "output_type": "stream",
     "text": [
      "label\n",
      "0    555.391304\n",
      "1    437.185185\n",
      "Name: word_count, dtype: float64\n"
     ]
    },
    {
     "name": "stderr",
     "output_type": "stream",
     "text": [
      "C:\\Users\\dimik\\anaconda3\\lib\\site-packages\\seaborn\\distributions.py:2551: FutureWarning: `distplot` is a deprecated function and will be removed in a future version. Please adapt your code to use either `displot` (a figure-level function with similar flexibility) or `histplot` (an axes-level function for histograms).\n",
      "  warnings.warn(msg, FutureWarning)\n",
      "C:\\Users\\dimik\\anaconda3\\lib\\site-packages\\seaborn\\distributions.py:2589: RuntimeWarning: Mean of empty slice.\n",
      "  line, = ax.plot(a.mean(), 0)\n",
      "C:\\Users\\dimik\\anaconda3\\lib\\site-packages\\numpy\\core\\_methods.py:170: RuntimeWarning: invalid value encountered in double_scalars\n",
      "  ret = ret.dtype.type(ret / rcount)\n",
      "C:\\Users\\dimik\\anaconda3\\lib\\site-packages\\numpy\\lib\\histograms.py:905: RuntimeWarning: invalid value encountered in true_divide\n",
      "  return n/db/n.sum(), bin_edges\n"
     ]
    },
    {
     "data": {
      "image/png": "[encoded data removed]",
      "text/plain": [
       "<Figure size 432x288 with 1 Axes>"
      ]
     },
     "metadata": {
      "needs_background": "light"
     },
     "output_type": "display_data"
    }
   ],
   "source": [
    "# Store the number of words in each messages\n",
    "data['word_count'] = data['text'].str.split().str.len()\n",
    "\n",
    "# Print the average number of words in each category\n",
    "print(data.groupby('label')['word_count'].mean())\n",
    "\n",
    "# Visualize the distribution of word counts in each category\n",
    "sns.distplot(data[data['label']=='spam']['word_count'], label='Spam')\n",
    "sns.distplot(data[data['label']=='ham']['word_count'], label='Ham'),\n",
    "plt.legend()\n",
    "plt.show()"
   ]
  },
  {
   "cell_type": "code",
   "execution_count": 12,
   "metadata": {},
   "outputs": [
    {
     "name": "stdout",
     "output_type": "stream",
     "text": [
      "0     [obama, addressed, the, nation, in, a, nothing...\n",
      "1     [beijing, (, reuters, ), -, a, powerful, explo...\n",
      "2     [washington, (, reuters, ), -, president, dona...\n",
      "3     [(, reuters, ), -, united, auto, workers, pres...\n",
      "4     [shawn, helton, 21st, century, wirealthough, m...\n",
      "                            ...                        \n",
      "95    [madrid, (, reuters, ), -, the, spanish, gover...\n",
      "96    [the, election, result, tonight, is, hard, to,...\n",
      "97    [if, what, we, say, reflects, on, how, our, pa...\n",
      "98    [it, doesn, t, get, any, clearer, than, this, ...\n",
      "99    [(, reuters, ), -, virginia, governor, terry, ...\n",
      "Name: text, Length: 100, dtype: object\n"
     ]
    }
   ],
   "source": [
    "# Make the letters lower case and tokenize the words\n",
    "tokenized_texts = data['text'].str.lower().apply(word_tokenize)\n",
    "\n",
    "# Print the tokens to see how it looks like\n",
    "print(tokenized_texts)"
   ]
  },
  {
   "cell_type": "code",
   "execution_count": 13,
   "metadata": {},
   "outputs": [
    {
     "name": "stdout",
     "output_type": "stream",
     "text": [
      "0     [obama, addressed, the, nation, in, a, nothing...\n",
      "1     [beijing, reuters, a, powerful, explosion, in,...\n",
      "2     [washington, reuters, president, donald, trump...\n",
      "3     [reuters, united, auto, workers, president, de...\n",
      "4     [shawn, helton, century, wirealthough, many, a...\n",
      "                            ...                        \n",
      "95    [madrid, reuters, the, spanish, government, ha...\n",
      "96    [the, election, result, tonight, is, hard, to,...\n",
      "97    [if, what, we, say, reflects, on, how, our, pa...\n",
      "98    [it, doesn, t, get, any, clearer, than, this, ...\n",
      "99    [reuters, virginia, governor, terry, mcauliffe...\n",
      "Name: text, Length: 100, dtype: object\n"
     ]
    }
   ],
   "source": [
    "# Define a function to returns only alphanumeric tokens\n",
    "def alpha(tokens):\n",
    "    \"\"\"This function removes all non-alphanumeric characters\"\"\"\n",
    "    alpha = []\n",
    "    for token in tokens:\n",
    "        if str.isalpha(token) or token in ['n\\'t','won\\'t']:\n",
    "            if token=='n\\'t':\n",
    "                alpha.append('not')\n",
    "                continue\n",
    "            elif token == 'won\\'t':\n",
    "                alpha.append('wont')\n",
    "                continue\n",
    "            alpha.append(token)\n",
    "    return alpha\n",
    "\n",
    "# Apply our function to tokens\n",
    "tokenized_texts = tokenized_texts.apply(alpha)\n",
    "\n",
    "print(tokenized_texts)"
   ]
  },
  {
   "cell_type": "code",
   "execution_count": 14,
   "metadata": {},
   "outputs": [
    {
     "name": "stdout",
     "output_type": "stream",
     "text": [
      "0     [obama, addressed, nation, nothing, burger, ju...\n",
      "1     [beijing, reuters, powerful, explosion, chines...\n",
      "2     [washington, reuters, president, donald, trump...\n",
      "3     [reuters, united, auto, workers, president, de...\n",
      "4     [shawn, helton, century, wirealthough, many, s...\n",
      "                            ...                        \n",
      "95    [madrid, reuters, spanish, government, given, ...\n",
      "96    [election, result, tonight, hard, swallow, man...\n",
      "97    [say, reflects, parents, raised, us, bill, hil...\n",
      "98    [get, clearer, iowa, steve, king, story, king,...\n",
      "99    [reuters, virginia, governor, terry, mcauliffe...\n",
      "Name: text, Length: 100, dtype: object\n"
     ]
    }
   ],
   "source": [
    "# Define a function to remove stop words\n",
    "def remove_stop_words(tokens):\n",
    "    \"\"\"This function removes all stop words in terms of nltk stopwords\"\"\"\n",
    "    no_stop = []\n",
    "    for token in tokens:\n",
    "        if token not in stopwords.words('english'):\n",
    "            no_stop.append(token)\n",
    "    return no_stop\n",
    "\n",
    "# Apply our function to tokens\n",
    "tokenized_texts = tokenized_texts.apply(remove_stop_words)\n",
    "\n",
    "print(tokenized_texts)"
   ]
  },
  {
   "cell_type": "code",
   "execution_count": 15,
   "metadata": {},
   "outputs": [
    {
     "name": "stdout",
     "output_type": "stream",
     "text": [
      "0     obama addressed nation nothing burger jumble j...\n",
      "1     beijing reuters powerful explosion chinese cit...\n",
      "2     washington reuters president donald trump appl...\n",
      "3     reuters united auto worker president dennis wi...\n",
      "4     shawn helton century wirealthough many still s...\n",
      "                            ...                        \n",
      "95    madrid reuters spanish government given catala...\n",
      "96    election result tonight hard swallow many u do...\n",
      "97    say reflects parent raised u bill hillary clin...\n",
      "98    get clearer iowa steve king story king introdu...\n",
      "99    reuters virginia governor terry mcauliffe wedn...\n",
      "Name: text, Length: 100, dtype: object\n"
     ]
    }
   ],
   "source": [
    "# Define a function to lemmatization\n",
    "def lemmatize(tokens):\n",
    "    \"\"\"This function lemmatize the messages\"\"\"\n",
    "    # Initialize the WordNetLemmatizer\n",
    "    lemmatizer = WordNetLemmatizer()\n",
    "    # Create the lemmatized list\n",
    "    lemmatized = []\n",
    "    for token in tokens:\n",
    "            # Lemmatize and append\n",
    "            lemmatized.append(lemmatizer.lemmatize(token))\n",
    "    return \" \".join(lemmatized)\n",
    "\n",
    "# Apply our function to tokens\n",
    "tokenized_texts = tokenized_texts.apply(lemmatize)\n",
    "\n",
    "print(tokenized_texts)"
   ]
  },
  {
   "cell_type": "code",
   "execution_count": 16,
   "metadata": {},
   "outputs": [
    {
     "data": {
      "text/html": [
       "<div>\n",
       "<style scoped>\n",
       "    .dataframe tbody tr th:only-of-type {\n",
       "        vertical-align: middle;\n",
       "    }\n",
       "\n",
       "    .dataframe tbody tr th {\n",
       "        vertical-align: top;\n",
       "    }\n",
       "\n",
       "    .dataframe thead th {\n",
       "        text-align: right;\n",
       "    }\n",
       "</style>\n",
       "<table border=\"1\" class=\"dataframe\">\n",
       "  <thead>\n",
       "    <tr style=\"text-align: right;\">\n",
       "      <th></th>\n",
       "      <th>Unnamed: 0</th>\n",
       "      <th>title</th>\n",
       "      <th>text</th>\n",
       "      <th>subject</th>\n",
       "      <th>date</th>\n",
       "      <th>label</th>\n",
       "      <th>word_count</th>\n",
       "    </tr>\n",
       "  </thead>\n",
       "  <tbody>\n",
       "    <tr>\n",
       "      <th>0</th>\n",
       "      <td>0</td>\n",
       "      <td>Obama’s Delusion Continues In Vapid Address To...</td>\n",
       "      <td>obama addressed nation nothing burger jumble j...</td>\n",
       "      <td>politics</td>\n",
       "      <td>Dec 6, 2015</td>\n",
       "      <td>0</td>\n",
       "      <td>40</td>\n",
       "    </tr>\n",
       "    <tr>\n",
       "      <th>1</th>\n",
       "      <td>1</td>\n",
       "      <td>Huge blast in China's Ningbo city kills at lea...</td>\n",
       "      <td>beijing reuters powerful explosion chinese cit...</td>\n",
       "      <td>worldnews</td>\n",
       "      <td>November 26, 2017</td>\n",
       "      <td>1</td>\n",
       "      <td>364</td>\n",
       "    </tr>\n",
       "    <tr>\n",
       "      <th>2</th>\n",
       "      <td>2</td>\n",
       "      <td>Trump applauds senators for new healthcare ref...</td>\n",
       "      <td>washington reuters president donald trump appl...</td>\n",
       "      <td>politicsNews</td>\n",
       "      <td>September 13, 2017</td>\n",
       "      <td>1</td>\n",
       "      <td>82</td>\n",
       "    </tr>\n",
       "    <tr>\n",
       "      <th>3</th>\n",
       "      <td>3</td>\n",
       "      <td>UAW chief says Clinton told him she would rene...</td>\n",
       "      <td>reuters united auto worker president dennis wi...</td>\n",
       "      <td>politicsNews</td>\n",
       "      <td>July 26, 2016</td>\n",
       "      <td>1</td>\n",
       "      <td>433</td>\n",
       "    </tr>\n",
       "    <tr>\n",
       "      <th>4</th>\n",
       "      <td>4</td>\n",
       "      <td>The Las Vegas Mass Shooting – More to the Stor...</td>\n",
       "      <td>shawn helton century wirealthough many still s...</td>\n",
       "      <td>US_News</td>\n",
       "      <td>October 12, 2017</td>\n",
       "      <td>0</td>\n",
       "      <td>7928</td>\n",
       "    </tr>\n",
       "  </tbody>\n",
       "</table>\n",
       "</div>"
      ],
      "text/plain": [
       "   Unnamed: 0                                              title  \\\n",
       "0           0  Obama’s Delusion Continues In Vapid Address To...   \n",
       "1           1  Huge blast in China's Ningbo city kills at lea...   \n",
       "2           2  Trump applauds senators for new healthcare ref...   \n",
       "3           3  UAW chief says Clinton told him she would rene...   \n",
       "4           4  The Las Vegas Mass Shooting – More to the Stor...   \n",
       "\n",
       "                                                text       subject  \\\n",
       "0  obama addressed nation nothing burger jumble j...      politics   \n",
       "1  beijing reuters powerful explosion chinese cit...     worldnews   \n",
       "2  washington reuters president donald trump appl...  politicsNews   \n",
       "3  reuters united auto worker president dennis wi...  politicsNews   \n",
       "4  shawn helton century wirealthough many still s...       US_News   \n",
       "\n",
       "                  date  label  word_count  \n",
       "0          Dec 6, 2015      0          40  \n",
       "1   November 26, 2017       1         364  \n",
       "2  September 13, 2017       1          82  \n",
       "3       July 26, 2016       1         433  \n",
       "4     October 12, 2017      0        7928  "
      ]
     },
     "metadata": {},
     "output_type": "display_data"
    }
   ],
   "source": [
    "# Replace the columns with tokenized messages\n",
    "data['text'] = tokenized_texts\n",
    "\n",
    "# Display the first five rows\n",
    "display(data.head())"
   ]
  },
  {
   "cell_type": "code",
   "execution_count": 17,
   "metadata": {},
   "outputs": [],
   "source": [
    "# Select the features and the target\n",
    "X = data['text']\n",
    "y = data['label']"
   ]
  },
  {
   "cell_type": "code",
   "execution_count": 18,
   "metadata": {},
   "outputs": [],
   "source": [
    "X_train, X_test, y_train, y_test = train_test_split(X, y, test_size=0.2, random_state=34, stratify=y)"
   ]
  },
  {
   "cell_type": "code",
   "execution_count": 19,
   "metadata": {},
   "outputs": [],
   "source": [
    "# Create the tf-idf vectorizer\n",
    "vectorizer = TfidfVectorizer(strip_accents='ascii')\n",
    "\n",
    "# First fit the vectorizer with our training set\n",
    "tfidf_train = vectorizer.fit_transform(X_train)\n",
    "\n",
    "# Now we can fit our test data with the same vectorizer\n",
    "tfidf_test = vectorizer.transform(X_test)"
   ]
  },
  {
   "cell_type": "code",
   "execution_count": 20,
   "metadata": {},
   "outputs": [
    {
     "name": "stdout",
     "output_type": "stream",
     "text": [
      "Accuracy: 0.65\n"
     ]
    }
   ],
   "source": [
    "# Initialize the Multinomial Naive Bayes classifier\n",
    "nb = MultinomialNB()\n",
    "\n",
    "# Fit the model\n",
    "nb.fit(tfidf_train, y_train)\n",
    "\n",
    "# Print the accuracy score\n",
    "print(\"Accuracy:\",nb.score(tfidf_test, y_test))"
   ]
  },
  {
   "cell_type": "code",
   "execution_count": 29,
   "metadata": {},
   "outputs": [
    {
     "name": "stdout",
     "output_type": "stream",
     "text": [
      "Confusion Matrix\n",
      "\n",
      "[[ 2  7]\n",
      " [ 0 11]]\n",
      "\n",
      "\n",
      "Classification Report\n",
      "\n",
      "              precision    recall  f1-score   support\n",
      "\n",
      "           0       1.00      0.22      0.36         9\n",
      "           1       0.61      1.00      0.76        11\n",
      "\n",
      "    accuracy                           0.65        20\n",
      "   macro avg       0.81      0.61      0.56        20\n",
      "weighted avg       0.79      0.65      0.58        20\n",
      "\n",
      "\n",
      "ROC AUC Score: 0.6111111111111112\n"
     ]
    },
    {
     "data": {
      "image/png": "[encoded data removed]",
      "text/plain": [
       "<Figure size 432x288 with 1 Axes>"
      ]
     },
     "metadata": {
      "needs_background": "light"
     },
     "output_type": "display_data"
    }
   ],
   "source": [
    "# Predict the labels\n",
    "y_pred = nb.predict(tfidf_test)\n",
    "\n",
    "# Print the Confusion Matrix\n",
    "cm = confusion_matrix(y_test, y_pred)\n",
    "print(\"Confusion Matrix\\n\")\n",
    "print(cm)\n",
    "\n",
    "# Print the Classification Report\n",
    "cr = classification_report(y_test, y_pred)\n",
    "print(\"\\n\\nClassification Report\\n\")\n",
    "print(cr)\n",
    "\n",
    "\n",
    "# Print the Receiver operating characteristic Auc score\n",
    "auc_score = roc_auc_score(y_test, y_pred)\n",
    "print(\"\\nROC AUC Score:\",auc_score)\n",
    "\n",
    "# Get probabilities.\n",
    "y_pred_proba = nb.predict(tfidf_test)\n",
    "\n",
    "# Get False Positive rate, True Positive rate and the threshold\n",
    "fpr, tpr, thresholds = roc_curve(y_test, y_pred_proba)\n",
    "\n",
    "# Visualize the ROC curve.\n",
    "plt.plot(fpr, tpr)\n",
    "plt.plot([0, 1], [0, 1],'r--')\n",
    "plt.xlim([0.0, 1.0])\n",
    "plt.ylim([0.0, 1.05])\n",
    "plt.xlabel('FP Rate')\n",
    "plt.ylabel('TP Rate')\n",
    "plt.title('ROC')\n",
    "plt.show()"
   ]
  },
  {
   "cell_type": "markdown",
   "metadata": {},
   "source": [
    "https://www.kaggle.com/barishasdemir/classification-with-naive-bayes"
   ]
  }
 ],
 "metadata": {
  "kernelspec": {
   "display_name": "Python 3",
   "language": "python",
   "name": "python3"
  },
  "language_info": {
   "codemirror_mode": {
    "name": "ipython",
    "version": 3
   },
   "file_extension": ".py",
   "mimetype": "text/x-python",
   "name": "python",
   "nbconvert_exporter": "python",
   "pygments_lexer": "ipython3",
   "version": "3.8.5"
  }
 },
 "nbformat": 4,
 "nbformat_minor": 4
}
