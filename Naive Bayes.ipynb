{
 "cells": [
  {
   "cell_type": "code",
   "execution_count": 3,
   "metadata": {},
   "outputs": [],
   "source": [
    "import numpy as np # linear algebra\n",
    "import pandas as pd # data processing\n",
    "\n",
    "import os"
   ]
  },
  {
   "cell_type": "code",
   "execution_count": 4,
   "metadata": {},
   "outputs": [],
   "source": [
    "import matplotlib.pyplot as plt\n",
    "import seaborn as sns\n",
    "\n",
    "\n",
    "import nltk\n",
    "from nltk.tokenize import word_tokenize\n",
    "from nltk.corpus import stopwords\n",
    "from nltk.stem import WordNetLemmatizer\n",
    "\n",
    "# We will visualize the messages with a word cloud\n",
    "from wordcloud import WordCloud\n",
    "\n",
    "# Multinomial Naive Bayes Classifier\n",
    "from sklearn.naive_bayes import MultinomialNB\n",
    "\n",
    "# Import Tf-idf Vectorizer\n",
    "from sklearn.feature_extraction.text import TfidfVectorizer\n",
    "\n",
    "# Import the Label Encoder\n",
    "from sklearn.preprocessing import LabelEncoder\n",
    "\n",
    "# Import the train test split\n",
    "from sklearn.model_selection import train_test_split\n",
    "\n",
    "# To evaluate our model\n",
    "from sklearn.metrics import accuracy_score\n",
    "from sklearn.metrics import confusion_matrix\n",
    "from sklearn.metrics import classification_report\n",
    "from sklearn.metrics import roc_curve, auc\n",
    "from sklearn.metrics import roc_auc_score\n",
    "\n",
    "# I will keep the resulting plots\n",
    "%matplotlib inline\n",
    "\n",
    "# Enable Jupyter Notebook's intellisense\n",
    "%config IPCompleter.greedy=True"
   ]
  },
  {
   "cell_type": "code",
   "execution_count": 5,
   "metadata": {},
   "outputs": [],
   "source": [
    "# Load the data\n",
    "data = pd.read_csv('train.csv')"
   ]
  },
  {
   "cell_type": "code",
   "execution_count": 6,
   "metadata": {},
   "outputs": [
    {
     "data": {
      "text/html": [
       "<div>\n",
       "<style scoped>\n",
       "    .dataframe tbody tr th:only-of-type {\n",
       "        vertical-align: middle;\n",
       "    }\n",
       "\n",
       "    .dataframe tbody tr th {\n",
       "        vertical-align: top;\n",
       "    }\n",
       "\n",
       "    .dataframe thead th {\n",
       "        text-align: right;\n",
       "    }\n",
       "</style>\n",
       "<table border=\"1\" class=\"dataframe\">\n",
       "  <thead>\n",
       "    <tr style=\"text-align: right;\">\n",
       "      <th></th>\n",
       "      <th>Unnamed: 0</th>\n",
       "      <th>title</th>\n",
       "      <th>text</th>\n",
       "      <th>subject</th>\n",
       "      <th>date</th>\n",
       "      <th>label</th>\n",
       "    </tr>\n",
       "  </thead>\n",
       "  <tbody>\n",
       "    <tr>\n",
       "      <th>0</th>\n",
       "      <td>0</td>\n",
       "      <td>Trump Attacks The ‘Failing’ New York Times, B...</td>\n",
       "      <td>Donald Trump kicked off his Sunday morning by ...</td>\n",
       "      <td>News</td>\n",
       "      <td>February 26, 2017</td>\n",
       "      <td>0</td>\n",
       "    </tr>\n",
       "    <tr>\n",
       "      <th>1</th>\n",
       "      <td>1</td>\n",
       "      <td>LOL! AMAZON USERS WRITE GUT-BUSTING Reviews Fo...</td>\n",
       "      <td>The extremely exhausted Hillary and her extrem...</td>\n",
       "      <td>politics</td>\n",
       "      <td>Sep 21, 2016</td>\n",
       "      <td>0</td>\n",
       "    </tr>\n",
       "    <tr>\n",
       "      <th>2</th>\n",
       "      <td>2</td>\n",
       "      <td>Kentucky governor sues to close abortion clinic</td>\n",
       "      <td>(Reuters) - Kentucky’s Republican Governor Mat...</td>\n",
       "      <td>politicsNews</td>\n",
       "      <td>March 3, 2016</td>\n",
       "      <td>1</td>\n",
       "    </tr>\n",
       "    <tr>\n",
       "      <th>3</th>\n",
       "      <td>3</td>\n",
       "      <td>Hezbollah calls on Saudi Arabia to cease inter...</td>\n",
       "      <td>BEIRUT (Reuters) - Hezbollah s parliamentary b...</td>\n",
       "      <td>worldnews</td>\n",
       "      <td>November 9, 2017</td>\n",
       "      <td>1</td>\n",
       "    </tr>\n",
       "    <tr>\n",
       "      <th>4</th>\n",
       "      <td>4</td>\n",
       "      <td>George Takei Just Shook Washington To Its Cor...</td>\n",
       "      <td>By now, we all know that House Intelligence Co...</td>\n",
       "      <td>News</td>\n",
       "      <td>April 1, 2017</td>\n",
       "      <td>0</td>\n",
       "    </tr>\n",
       "  </tbody>\n",
       "</table>\n",
       "</div>"
      ],
      "text/plain": [
       "   Unnamed: 0                                              title  \\\n",
       "0           0   Trump Attacks The ‘Failing’ New York Times, B...   \n",
       "1           1  LOL! AMAZON USERS WRITE GUT-BUSTING Reviews Fo...   \n",
       "2           2    Kentucky governor sues to close abortion clinic   \n",
       "3           3  Hezbollah calls on Saudi Arabia to cease inter...   \n",
       "4           4   George Takei Just Shook Washington To Its Cor...   \n",
       "\n",
       "                                                text       subject  \\\n",
       "0  Donald Trump kicked off his Sunday morning by ...          News   \n",
       "1  The extremely exhausted Hillary and her extrem...      politics   \n",
       "2  (Reuters) - Kentucky’s Republican Governor Mat...  politicsNews   \n",
       "3  BEIRUT (Reuters) - Hezbollah s parliamentary b...     worldnews   \n",
       "4  By now, we all know that House Intelligence Co...          News   \n",
       "\n",
       "                date  label  \n",
       "0  February 26, 2017      0  \n",
       "1       Sep 21, 2016      0  \n",
       "2     March 3, 2016       1  \n",
       "3  November 9, 2017       1  \n",
       "4      April 1, 2017      0  "
      ]
     },
     "metadata": {},
     "output_type": "display_data"
    },
    {
     "data": {
      "text/html": [
       "<div>\n",
       "<style scoped>\n",
       "    .dataframe tbody tr th:only-of-type {\n",
       "        vertical-align: middle;\n",
       "    }\n",
       "\n",
       "    .dataframe tbody tr th {\n",
       "        vertical-align: top;\n",
       "    }\n",
       "\n",
       "    .dataframe thead th {\n",
       "        text-align: right;\n",
       "    }\n",
       "</style>\n",
       "<table border=\"1\" class=\"dataframe\">\n",
       "  <thead>\n",
       "    <tr style=\"text-align: right;\">\n",
       "      <th></th>\n",
       "      <th>Unnamed: 0</th>\n",
       "      <th>label</th>\n",
       "    </tr>\n",
       "  </thead>\n",
       "  <tbody>\n",
       "    <tr>\n",
       "      <th>count</th>\n",
       "      <td>13469.000000</td>\n",
       "      <td>13469.000000</td>\n",
       "    </tr>\n",
       "    <tr>\n",
       "      <th>mean</th>\n",
       "      <td>6734.000000</td>\n",
       "      <td>0.479620</td>\n",
       "    </tr>\n",
       "    <tr>\n",
       "      <th>std</th>\n",
       "      <td>3888.309723</td>\n",
       "      <td>0.499603</td>\n",
       "    </tr>\n",
       "    <tr>\n",
       "      <th>min</th>\n",
       "      <td>0.000000</td>\n",
       "      <td>0.000000</td>\n",
       "    </tr>\n",
       "    <tr>\n",
       "      <th>25%</th>\n",
       "      <td>3367.000000</td>\n",
       "      <td>0.000000</td>\n",
       "    </tr>\n",
       "    <tr>\n",
       "      <th>50%</th>\n",
       "      <td>6734.000000</td>\n",
       "      <td>0.000000</td>\n",
       "    </tr>\n",
       "    <tr>\n",
       "      <th>75%</th>\n",
       "      <td>10101.000000</td>\n",
       "      <td>1.000000</td>\n",
       "    </tr>\n",
       "    <tr>\n",
       "      <th>max</th>\n",
       "      <td>13468.000000</td>\n",
       "      <td>1.000000</td>\n",
       "    </tr>\n",
       "  </tbody>\n",
       "</table>\n",
       "</div>"
      ],
      "text/plain": [
       "         Unnamed: 0         label\n",
       "count  13469.000000  13469.000000\n",
       "mean    6734.000000      0.479620\n",
       "std     3888.309723      0.499603\n",
       "min        0.000000      0.000000\n",
       "25%     3367.000000      0.000000\n",
       "50%     6734.000000      0.000000\n",
       "75%    10101.000000      1.000000\n",
       "max    13468.000000      1.000000"
      ]
     },
     "metadata": {},
     "output_type": "display_data"
    },
    {
     "name": "stdout",
     "output_type": "stream",
     "text": [
      "<class 'pandas.core.frame.DataFrame'>\n",
      "RangeIndex: 13469 entries, 0 to 13468\n",
      "Data columns (total 6 columns):\n",
      " #   Column      Non-Null Count  Dtype \n",
      "---  ------      --------------  ----- \n",
      " 0   Unnamed: 0  13469 non-null  int64 \n",
      " 1   title       13469 non-null  object\n",
      " 2   text        13469 non-null  object\n",
      " 3   subject     13469 non-null  object\n",
      " 4   date        13469 non-null  object\n",
      " 5   label       13469 non-null  int64 \n",
      "dtypes: int64(2), object(4)\n",
      "memory usage: 631.5+ KB\n",
      "None\n"
     ]
    }
   ],
   "source": [
    "# Display firt five rows\n",
    "display(data.head())\n",
    "\n",
    "# Display the summary statistics\n",
    "display(data.describe())\n",
    "\n",
    "# Print the info\n",
    "print(data.info())"
   ]
  },
  {
   "cell_type": "code",
   "execution_count": 7,
   "metadata": {},
   "outputs": [
    {
     "name": "stdout",
     "output_type": "stream",
     "text": [
      "label\n",
      "0    426.431160\n",
      "1    385.383746\n",
      "Name: word_count, dtype: float64\n"
     ]
    },
    {
     "name": "stderr",
     "output_type": "stream",
     "text": [
      "C:\\ProgramData\\Anaconda3\\lib\\site-packages\\seaborn\\distributions.py:2551: FutureWarning: `distplot` is a deprecated function and will be removed in a future version. Please adapt your code to use either `displot` (a figure-level function with similar flexibility) or `histplot` (an axes-level function for histograms).\n",
      "  warnings.warn(msg, FutureWarning)\n",
      "C:\\ProgramData\\Anaconda3\\lib\\site-packages\\seaborn\\distributions.py:2589: RuntimeWarning: Mean of empty slice.\n",
      "  line, = ax.plot(a.mean(), 0)\n",
      "C:\\ProgramData\\Anaconda3\\lib\\site-packages\\numpy\\core\\_methods.py:170: RuntimeWarning: invalid value encountered in double_scalars\n",
      "  ret = ret.dtype.type(ret / rcount)\n",
      "C:\\ProgramData\\Anaconda3\\lib\\site-packages\\numpy\\lib\\histograms.py:905: RuntimeWarning: invalid value encountered in true_divide\n",
      "  return n/db/n.sum(), bin_edges\n"
     ]
    },
    {
     "data": {
      "image/png": "[encoded data removed]",
      "text/plain": [
       "<Figure size 432x288 with 1 Axes>"
      ]
     },
     "metadata": {
      "needs_background": "light"
     },
     "output_type": "display_data"
    }
   ],
   "source": [
    "# Store the number of words in each messages\n",
    "data['word_count'] = data['text'].str.split().str.len()\n",
    "\n",
    "# Print the average number of words in each category\n",
    "print(data.groupby('label')['word_count'].mean())\n",
    "\n",
    "# Visualize the distribution of word counts in each category\n",
    "sns.distplot(data[data['label']=='spam']['word_count'], label='Spam')\n",
    "sns.distplot(data[data['label']=='ham']['word_count'], label='Ham'),\n",
    "plt.legend()\n",
    "plt.show()"
   ]
  },
  {
   "cell_type": "code",
   "execution_count": 8,
   "metadata": {},
   "outputs": [
    {
     "name": "stdout",
     "output_type": "stream",
     "text": [
      "0        [donald, trump, kicked, off, his, sunday, morn...\n",
      "1        [the, extremely, exhausted, hillary, and, her,...\n",
      "2        [(, reuters, ), -, kentucky, ’, s, republican,...\n",
      "3        [beirut, (, reuters, ), -, hezbollah, s, parli...\n",
      "4        [by, now, ,, we, all, know, that, house, intel...\n",
      "                               ...                        \n",
      "13464    [civil, rights, icon, ,, rep., john, lewis, ,,...\n",
      "13465    [washington, (, reuters, ), -, about, 60, smal...\n",
      "13466    [moscow, (, reuters, ), -, carter, page, ,, a,...\n",
      "13467    [but, wait, the, first, female, president, oh,...\n",
      "13468    [facebook, is, in, the, middle, of, a, charm, ...\n",
      "Name: text, Length: 13469, dtype: object\n"
     ]
    }
   ],
   "source": [
    "# Make the letters lower case and tokenize the words\n",
    "tokenized_texts = data['text'].str.lower().apply(word_tokenize)\n",
    "\n",
    "# Print the tokens to see how it looks like\n",
    "print(tokenized_texts)"
   ]
  },
  {
   "cell_type": "code",
   "execution_count": 9,
   "metadata": {},
   "outputs": [
    {
     "name": "stdout",
     "output_type": "stream",
     "text": [
      "0        [donald, trump, kicked, off, his, sunday, morn...\n",
      "1        [the, extremely, exhausted, hillary, and, her,...\n",
      "2        [reuters, kentucky, s, republican, governor, m...\n",
      "3        [beirut, reuters, hezbollah, s, parliamentary,...\n",
      "4        [by, now, we, all, know, that, house, intellig...\n",
      "                               ...                        \n",
      "13464    [civil, rights, icon, john, lewis, recently, a...\n",
      "13465    [washington, reuters, about, small, business, ...\n",
      "13466    [moscow, reuters, carter, page, a, businessman...\n",
      "13467    [but, wait, the, first, female, president, oh,...\n",
      "13468    [facebook, is, in, the, middle, of, a, charm, ...\n",
      "Name: text, Length: 13469, dtype: object\n"
     ]
    }
   ],
   "source": [
    "# Define a function to returns only alphanumeric tokens\n",
    "def alpha(tokens):\n",
    "    \"\"\"This function removes all non-alphanumeric characters\"\"\"\n",
    "    alpha = []\n",
    "    for token in tokens:\n",
    "        if str.isalpha(token) or token in ['n\\'t','won\\'t']:\n",
    "            if token=='n\\'t':\n",
    "                alpha.append('not')\n",
    "                continue\n",
    "            elif token == 'won\\'t':\n",
    "                alpha.append('wont')\n",
    "                continue\n",
    "            alpha.append(token)\n",
    "    return alpha\n",
    "\n",
    "# Apply our function to tokens\n",
    "tokenized_texts = tokenized_texts.apply(alpha)\n",
    "\n",
    "print(tokenized_texts)"
   ]
  },
  {
   "cell_type": "code",
   "execution_count": 10,
   "metadata": {},
   "outputs": [
    {
     "name": "stdout",
     "output_type": "stream",
     "text": [
      "0        [donald, trump, kicked, sunday, morning, attac...\n",
      "1        [extremely, exhausted, hillary, extremely, bor...\n",
      "2        [reuters, kentucky, republican, governor, matt...\n",
      "3        [beirut, reuters, hezbollah, parliamentary, bl...\n",
      "4        [know, house, intelligence, committee, chairma...\n",
      "                               ...                        \n",
      "13464    [civil, rights, icon, john, lewis, recently, a...\n",
      "13465    [washington, reuters, small, business, owners,...\n",
      "13466    [moscow, reuters, carter, page, businessman, p...\n",
      "13467    [wait, first, female, president, oh, never, mi...\n",
      "13468    [facebook, middle, charm, offensive, targeted,...\n",
      "Name: text, Length: 13469, dtype: object\n"
     ]
    }
   ],
   "source": [
    "# Define a function to remove stop words\n",
    "def remove_stop_words(tokens):\n",
    "    \"\"\"This function removes all stop words in terms of nltk stopwords\"\"\"\n",
    "    no_stop = []\n",
    "    for token in tokens:\n",
    "        if token not in stopwords.words('english'):\n",
    "            no_stop.append(token)\n",
    "    return no_stop\n",
    "\n",
    "# Apply our function to tokens\n",
    "tokenized_texts = tokenized_texts.apply(remove_stop_words)\n",
    "\n",
    "print(tokenized_texts)"
   ]
  },
  {
   "cell_type": "code",
   "execution_count": 11,
   "metadata": {},
   "outputs": [
    {
     "name": "stdout",
     "output_type": "stream",
     "text": [
      "0        donald trump kicked sunday morning attacking n...\n",
      "1        extremely exhausted hillary extremely boring v...\n",
      "2        reuters kentucky republican governor matt bevi...\n",
      "3        beirut reuters hezbollah parliamentary bloc ca...\n",
      "4        know house intelligence committee chairman dev...\n",
      "                               ...                        \n",
      "13464    civil right icon john lewis recently announced...\n",
      "13465    washington reuters small business owner repres...\n",
      "13466    moscow reuters carter page businessman previou...\n",
      "13467    wait first female president oh never mind demo...\n",
      "13468    facebook middle charm offensive targeted conse...\n",
      "Name: text, Length: 13469, dtype: object\n"
     ]
    }
   ],
   "source": [
    "# Define a function to lemmatization\n",
    "def lemmatize(tokens):\n",
    "    \"\"\"This function lemmatize the messages\"\"\"\n",
    "    # Initialize the WordNetLemmatizer\n",
    "    lemmatizer = WordNetLemmatizer()\n",
    "    # Create the lemmatized list\n",
    "    lemmatized = []\n",
    "    for token in tokens:\n",
    "            # Lemmatize and append\n",
    "            lemmatized.append(lemmatizer.lemmatize(token))\n",
    "    return \" \".join(lemmatized)\n",
    "\n",
    "# Apply our function to tokens\n",
    "tokenized_texts = tokenized_texts.apply(lemmatize)\n",
    "\n",
    "print(tokenized_texts)"
   ]
  },
  {
   "cell_type": "code",
   "execution_count": 12,
   "metadata": {},
   "outputs": [
    {
     "data": {
      "text/html": [
       "<div>\n",
       "<style scoped>\n",
       "    .dataframe tbody tr th:only-of-type {\n",
       "        vertical-align: middle;\n",
       "    }\n",
       "\n",
       "    .dataframe tbody tr th {\n",
       "        vertical-align: top;\n",
       "    }\n",
       "\n",
       "    .dataframe thead th {\n",
       "        text-align: right;\n",
       "    }\n",
       "</style>\n",
       "<table border=\"1\" class=\"dataframe\">\n",
       "  <thead>\n",
       "    <tr style=\"text-align: right;\">\n",
       "      <th></th>\n",
       "      <th>Unnamed: 0</th>\n",
       "      <th>title</th>\n",
       "      <th>text</th>\n",
       "      <th>subject</th>\n",
       "      <th>date</th>\n",
       "      <th>label</th>\n",
       "      <th>word_count</th>\n",
       "    </tr>\n",
       "  </thead>\n",
       "  <tbody>\n",
       "    <tr>\n",
       "      <th>0</th>\n",
       "      <td>0</td>\n",
       "      <td>Trump Attacks The ‘Failing’ New York Times, B...</td>\n",
       "      <td>donald trump kicked sunday morning attacking n...</td>\n",
       "      <td>News</td>\n",
       "      <td>February 26, 2017</td>\n",
       "      <td>0</td>\n",
       "      <td>591</td>\n",
       "    </tr>\n",
       "    <tr>\n",
       "      <th>1</th>\n",
       "      <td>1</td>\n",
       "      <td>LOL! AMAZON USERS WRITE GUT-BUSTING Reviews Fo...</td>\n",
       "      <td>extremely exhausted hillary extremely boring v...</td>\n",
       "      <td>politics</td>\n",
       "      <td>Sep 21, 2016</td>\n",
       "      <td>0</td>\n",
       "      <td>197</td>\n",
       "    </tr>\n",
       "    <tr>\n",
       "      <th>2</th>\n",
       "      <td>2</td>\n",
       "      <td>Kentucky governor sues to close abortion clinic</td>\n",
       "      <td>reuters kentucky republican governor matt bevi...</td>\n",
       "      <td>politicsNews</td>\n",
       "      <td>March 3, 2016</td>\n",
       "      <td>1</td>\n",
       "      <td>230</td>\n",
       "    </tr>\n",
       "    <tr>\n",
       "      <th>3</th>\n",
       "      <td>3</td>\n",
       "      <td>Hezbollah calls on Saudi Arabia to cease inter...</td>\n",
       "      <td>beirut reuters hezbollah parliamentary bloc ca...</td>\n",
       "      <td>worldnews</td>\n",
       "      <td>November 9, 2017</td>\n",
       "      <td>1</td>\n",
       "      <td>65</td>\n",
       "    </tr>\n",
       "    <tr>\n",
       "      <th>4</th>\n",
       "      <td>4</td>\n",
       "      <td>George Takei Just Shook Washington To Its Cor...</td>\n",
       "      <td>know house intelligence committee chairman dev...</td>\n",
       "      <td>News</td>\n",
       "      <td>April 1, 2017</td>\n",
       "      <td>0</td>\n",
       "      <td>293</td>\n",
       "    </tr>\n",
       "  </tbody>\n",
       "</table>\n",
       "</div>"
      ],
      "text/plain": [
       "   Unnamed: 0                                              title  \\\n",
       "0           0   Trump Attacks The ‘Failing’ New York Times, B...   \n",
       "1           1  LOL! AMAZON USERS WRITE GUT-BUSTING Reviews Fo...   \n",
       "2           2    Kentucky governor sues to close abortion clinic   \n",
       "3           3  Hezbollah calls on Saudi Arabia to cease inter...   \n",
       "4           4   George Takei Just Shook Washington To Its Cor...   \n",
       "\n",
       "                                                text       subject  \\\n",
       "0  donald trump kicked sunday morning attacking n...          News   \n",
       "1  extremely exhausted hillary extremely boring v...      politics   \n",
       "2  reuters kentucky republican governor matt bevi...  politicsNews   \n",
       "3  beirut reuters hezbollah parliamentary bloc ca...     worldnews   \n",
       "4  know house intelligence committee chairman dev...          News   \n",
       "\n",
       "                date  label  word_count  \n",
       "0  February 26, 2017      0         591  \n",
       "1       Sep 21, 2016      0         197  \n",
       "2     March 3, 2016       1         230  \n",
       "3  November 9, 2017       1          65  \n",
       "4      April 1, 2017      0         293  "
      ]
     },
     "metadata": {},
     "output_type": "display_data"
    }
   ],
   "source": [
    "# Replace the columns with tokenized messages\n",
    "data['text'] = tokenized_texts\n",
    "\n",
    "# Display the first five rows\n",
    "display(data.head())"
   ]
  },
  {
   "cell_type": "code",
   "execution_count": 18,
   "metadata": {},
   "outputs": [
    {
     "data": {
      "text/plain": [
       "0        donald trump kicked sunday morning attacking n...\n",
       "1        extremely exhausted hillary extremely boring v...\n",
       "2        reuters kentucky republican governor matt bevi...\n",
       "3        beirut reuters hezbollah parliamentary bloc ca...\n",
       "4        know house intelligence committee chairman dev...\n",
       "                               ...                        \n",
       "13464    civil right icon john lewis recently announced...\n",
       "13465    washington reuters small business owner repres...\n",
       "13466    moscow reuters carter page businessman previou...\n",
       "13467    wait first female president oh never mind demo...\n",
       "13468    facebook middle charm offensive targeted conse...\n",
       "Name: text, Length: 13469, dtype: object"
      ]
     },
     "execution_count": 18,
     "metadata": {},
     "output_type": "execute_result"
    }
   ],
   "source": [
    "# Select the features and the target\n",
    "X = data['text']\n",
    "y = data['label']\n",
    "\n"
   ]
  },
  {
   "cell_type": "code",
   "execution_count": 19,
   "metadata": {},
   "outputs": [
    {
     "data": {
      "text/plain": [
       "8342     washington reuters republican senator mark kir...\n",
       "8226     wait thought obama democrat supposed standing ...\n",
       "5035     century wire say three week ago wound still fr...\n",
       "4972     donald trump supporter taken upon try throw te...\n",
       "8434     bernie sander received major endorsement legen...\n",
       "                               ...                        \n",
       "3679     sunday donald trump campaign manager kellyanne...\n",
       "10865    former evangelical christian ripping conservat...\n",
       "7912     melbourne reuters nearly million australian pe...\n",
       "1745     washington reuters donald trump considering fo...\n",
       "11038    well first hand cookie jar operative strategis...\n",
       "Name: text, Length: 10775, dtype: object"
      ]
     },
     "execution_count": 19,
     "metadata": {},
     "output_type": "execute_result"
    }
   ],
   "source": [
    "X_train, X_test, y_train, y_test = train_test_split(X, y, test_size=0.2, random_state=34, stratify=y)\n",
    "X_train"
   ]
  },
  {
   "cell_type": "code",
   "execution_count": 20,
   "metadata": {},
   "outputs": [
    {
     "data": {
      "text/plain": [
       "<10775x51907 sparse matrix of type '<class 'numpy.float64'>'\n",
       "\twith 1617694 stored elements in Compressed Sparse Row format>"
      ]
     },
     "execution_count": 20,
     "metadata": {},
     "output_type": "execute_result"
    }
   ],
   "source": [
    "# Create the tf-idf vectorizer\n",
    "vectorizer = TfidfVectorizer(strip_accents='ascii')\n",
    "\n",
    "# First fit the vectorizer with our training set\n",
    "tfidf_train = vectorizer.fit_transform(X_train)\n",
    "\n",
    "# Now we can fit our test data with the same vectorizer\n",
    "tfidf_test = vectorizer.transform(X_test)\n",
    "\n"
   ]
  },
  {
   "cell_type": "code",
   "execution_count": 16,
   "metadata": {},
   "outputs": [
    {
     "name": "stdout",
     "output_type": "stream",
     "text": [
      "Accuracy: 0.9376391982182628\n"
     ]
    }
   ],
   "source": [
    "# Initialize the Multinomial Naive Bayes classifier\n",
    "nb = MultinomialNB()\n",
    "\n",
    "# Fit the model\n",
    "nb.fit(tfidf_train, y_train)\n",
    "\n",
    "# Print the accuracy score\n",
    "print(\"Accuracy:\",nb.score(tfidf_test, y_test))"
   ]
  },
  {
   "cell_type": "code",
   "execution_count": 17,
   "metadata": {},
   "outputs": [
    {
     "name": "stdout",
     "output_type": "stream",
     "text": [
      "Confusion Matrix\n",
      "\n",
      "[[1315   87]\n",
      " [  81 1211]]\n",
      "\n",
      "\n",
      "Classification Report\n",
      "\n",
      "              precision    recall  f1-score   support\n",
      "\n",
      "           0       0.94      0.94      0.94      1402\n",
      "           1       0.93      0.94      0.94      1292\n",
      "\n",
      "    accuracy                           0.94      2694\n",
      "   macro avg       0.94      0.94      0.94      2694\n",
      "weighted avg       0.94      0.94      0.94      2694\n",
      "\n",
      "\n",
      "ROC AUC Score: 0.9376261466370466\n"
     ]
    },
    {
     "data": {
      "image/png": "[encoded data removed]",
      "text/plain": [
       "<Figure size 432x288 with 1 Axes>"
      ]
     },
     "metadata": {
      "needs_background": "light"
     },
     "output_type": "display_data"
    }
   ],
   "source": [
    "# Predict the labels\n",
    "y_pred = nb.predict(tfidf_test)\n",
    "\n",
    "# Print the Confusion Matrix\n",
    "cm = confusion_matrix(y_test, y_pred)\n",
    "print(\"Confusion Matrix\\n\")\n",
    "print(cm)\n",
    "\n",
    "# Print the Classification Report\n",
    "cr = classification_report(y_test, y_pred)\n",
    "print(\"\\n\\nClassification Report\\n\")\n",
    "print(cr)\n",
    "\n",
    "\n",
    "# Print the Receiver operating characteristic Auc score\n",
    "auc_score = roc_auc_score(y_test, y_pred)\n",
    "print(\"\\nROC AUC Score:\",auc_score)\n",
    "\n",
    "# Get probabilities.\n",
    "y_pred_proba = nb.predict(tfidf_test)\n",
    "\n",
    "# Get False Positive rate, True Positive rate and the threshold\n",
    "fpr, tpr, thresholds = roc_curve(y_test, y_pred_proba)\n",
    "\n",
    "# Visualize the ROC curve.\n",
    "plt.plot(fpr, tpr)\n",
    "plt.plot([0, 1], [0, 1],'r--')\n",
    "plt.xlim([0.0, 1.0])\n",
    "plt.ylim([0.0, 1.05])\n",
    "plt.xlabel('FP Rate')\n",
    "plt.ylabel('TP Rate')\n",
    "plt.title('ROC')\n",
    "plt.show()"
   ]
  },
  {
   "cell_type": "markdown",
   "metadata": {},
   "source": [
    "https://www.kaggle.com/barishasdemir/classification-with-naive-bayes"
   ]
  }
 ],
 "metadata": {
  "kernelspec": {
   "display_name": "Python 3",
   "language": "python",
   "name": "python3"
  },
  "language_info": {
   "codemirror_mode": {
    "name": "ipython",
    "version": 3
   },
   "file_extension": ".py",
   "mimetype": "text/x-python",
   "name": "python",
   "nbconvert_exporter": "python",
   "pygments_lexer": "ipython3",
   "version": "3.8.5"
  }
 },
 "nbformat": 4,
 "nbformat_minor": 4
}
