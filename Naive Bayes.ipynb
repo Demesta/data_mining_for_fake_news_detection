{
 "cells": [
  {
   "cell_type": "code",
   "execution_count": 1,
   "metadata": {},
   "outputs": [],
   "source": [
    "import numpy as np # linear algebra\n",
    "import pandas as pd # data processing\n",
    "\n",
    "import os"
   ]
  },
  {
   "cell_type": "code",
   "execution_count": 2,
   "metadata": {},
   "outputs": [],
   "source": [
    "import matplotlib.pyplot as plt\n",
    "import seaborn as sns\n",
    "\n",
    "\n",
    "import nltk\n",
    "from nltk.tokenize import word_tokenize\n",
    "from nltk.corpus import stopwords\n",
    "from nltk.stem import WordNetLemmatizer\n",
    "\n",
    "# We will visualize the messages with a word cloud\n",
    "from wordcloud import WordCloud\n",
    "\n",
    "# Multinomial Naive Bayes Classifier\n",
    "from sklearn.naive_bayes import MultinomialNB\n",
    "\n",
    "# Import Tf-idf Vectorizer\n",
    "from sklearn.feature_extraction.text import TfidfVectorizer\n",
    "\n",
    "# Import the Label Encoder\n",
    "from sklearn.preprocessing import LabelEncoder\n",
    "\n",
    "# Import the train test split\n",
    "from sklearn.model_selection import train_test_split\n",
    "\n",
    "# To evaluate our model\n",
    "from sklearn.metrics import accuracy_score\n",
    "from sklearn.metrics import confusion_matrix\n",
    "from sklearn.metrics import classification_report\n",
    "from sklearn.metrics import roc_curve, auc\n",
    "from sklearn.metrics import roc_auc_score\n",
    "\n",
    "# I will keep the resulting plots\n",
    "%matplotlib inline\n",
    "\n",
    "# Enable Jupyter Notebook's intellisense\n",
    "%config IPCompleter.greedy=True"
   ]
  },
  {
   "cell_type": "code",
   "execution_count": 3,
   "metadata": {},
   "outputs": [],
   "source": [
    "# Load the data\n",
    "data = pd.read_csv('train.csv')"
   ]
  },
  {
   "cell_type": "code",
   "execution_count": 4,
   "metadata": {},
   "outputs": [
    {
     "data": {
      "text/html": [
       "<div>\n",
       "<style scoped>\n",
       "    .dataframe tbody tr th:only-of-type {\n",
       "        vertical-align: middle;\n",
       "    }\n",
       "\n",
       "    .dataframe tbody tr th {\n",
       "        vertical-align: top;\n",
       "    }\n",
       "\n",
       "    .dataframe thead th {\n",
       "        text-align: right;\n",
       "    }\n",
       "</style>\n",
       "<table border=\"1\" class=\"dataframe\">\n",
       "  <thead>\n",
       "    <tr style=\"text-align: right;\">\n",
       "      <th></th>\n",
       "      <th>Unnamed: 0</th>\n",
       "      <th>title</th>\n",
       "      <th>text</th>\n",
       "      <th>subject</th>\n",
       "      <th>date</th>\n",
       "      <th>label</th>\n",
       "    </tr>\n",
       "  </thead>\n",
       "  <tbody>\n",
       "    <tr>\n",
       "      <th>0</th>\n",
       "      <td>0</td>\n",
       "      <td>Boiler Room EP #75 – Limited Hangouts, Syria a...</td>\n",
       "      <td>Tune in to the Alternate Current Radio Network...</td>\n",
       "      <td>US_News</td>\n",
       "      <td>September 21, 2016</td>\n",
       "      <td>0</td>\n",
       "    </tr>\n",
       "    <tr>\n",
       "      <th>1</th>\n",
       "      <td>1</td>\n",
       "      <td>WATCH: KIM JONG-UN Blows Up US Aircraft Carrie...</td>\n",
       "      <td>President @realDonaldTrump:  I inherited a mes...</td>\n",
       "      <td>politics</td>\n",
       "      <td>Mar 21, 2017</td>\n",
       "      <td>0</td>\n",
       "    </tr>\n",
       "    <tr>\n",
       "      <th>2</th>\n",
       "      <td>2</td>\n",
       "      <td>\\r\\r\\r\\r\\r\\r\\r\\nWATCH: Democratic Rep Delivers...</td>\n",
       "      <td>Massachusetts Rep. Jim McGovern brought the Ho...</td>\n",
       "      <td>News</td>\n",
       "      <td>May 4, 2017</td>\n",
       "      <td>0</td>\n",
       "    </tr>\n",
       "    <tr>\n",
       "      <th>3</th>\n",
       "      <td>3</td>\n",
       "      <td>DISASTER CAPITALISTS: How Bill And Hillary’s “...</td>\n",
       "      <td>Hillary was Secretary of State an unimaginable...</td>\n",
       "      <td>politics</td>\n",
       "      <td>Oct 7, 2016</td>\n",
       "      <td>0</td>\n",
       "    </tr>\n",
       "    <tr>\n",
       "      <th>4</th>\n",
       "      <td>4</td>\n",
       "      <td>OBAMA AND VALERIE JARRETT Finalize Executive A...</td>\n",
       "      <td>It s almost as though we don t even have a Con...</td>\n",
       "      <td>Government News</td>\n",
       "      <td>Dec 11, 2015</td>\n",
       "      <td>0</td>\n",
       "    </tr>\n",
       "  </tbody>\n",
       "</table>\n",
       "</div>"
      ],
      "text/plain": [
       "   Unnamed: 0                                              title  \\\n",
       "0           0  Boiler Room EP #75 – Limited Hangouts, Syria a...   \n",
       "1           1  WATCH: KIM JONG-UN Blows Up US Aircraft Carrie...   \n",
       "2           2  \\r\\r\\r\\r\\r\\r\\r\\nWATCH: Democratic Rep Delivers...   \n",
       "3           3  DISASTER CAPITALISTS: How Bill And Hillary’s “...   \n",
       "4           4  OBAMA AND VALERIE JARRETT Finalize Executive A...   \n",
       "\n",
       "                                                text          subject  \\\n",
       "0  Tune in to the Alternate Current Radio Network...          US_News   \n",
       "1  President @realDonaldTrump:  I inherited a mes...         politics   \n",
       "2  Massachusetts Rep. Jim McGovern brought the Ho...             News   \n",
       "3  Hillary was Secretary of State an unimaginable...         politics   \n",
       "4  It s almost as though we don t even have a Con...  Government News   \n",
       "\n",
       "                 date  label  \n",
       "0  September 21, 2016      0  \n",
       "1        Mar 21, 2017      0  \n",
       "2         May 4, 2017      0  \n",
       "3         Oct 7, 2016      0  \n",
       "4        Dec 11, 2015      0  "
      ]
     },
     "metadata": {},
     "output_type": "display_data"
    },
    {
     "data": {
      "text/html": [
       "<div>\n",
       "<style scoped>\n",
       "    .dataframe tbody tr th:only-of-type {\n",
       "        vertical-align: middle;\n",
       "    }\n",
       "\n",
       "    .dataframe tbody tr th {\n",
       "        vertical-align: top;\n",
       "    }\n",
       "\n",
       "    .dataframe thead th {\n",
       "        text-align: right;\n",
       "    }\n",
       "</style>\n",
       "<table border=\"1\" class=\"dataframe\">\n",
       "  <thead>\n",
       "    <tr style=\"text-align: right;\">\n",
       "      <th></th>\n",
       "      <th>Unnamed: 0</th>\n",
       "      <th>label</th>\n",
       "    </tr>\n",
       "  </thead>\n",
       "  <tbody>\n",
       "    <tr>\n",
       "      <th>count</th>\n",
       "      <td>17959.000000</td>\n",
       "      <td>17959.000000</td>\n",
       "    </tr>\n",
       "    <tr>\n",
       "      <th>mean</th>\n",
       "      <td>8979.000000</td>\n",
       "      <td>0.480261</td>\n",
       "    </tr>\n",
       "    <tr>\n",
       "      <th>std</th>\n",
       "      <td>5184.461078</td>\n",
       "      <td>0.499624</td>\n",
       "    </tr>\n",
       "    <tr>\n",
       "      <th>min</th>\n",
       "      <td>0.000000</td>\n",
       "      <td>0.000000</td>\n",
       "    </tr>\n",
       "    <tr>\n",
       "      <th>25%</th>\n",
       "      <td>4489.500000</td>\n",
       "      <td>0.000000</td>\n",
       "    </tr>\n",
       "    <tr>\n",
       "      <th>50%</th>\n",
       "      <td>8979.000000</td>\n",
       "      <td>0.000000</td>\n",
       "    </tr>\n",
       "    <tr>\n",
       "      <th>75%</th>\n",
       "      <td>13468.500000</td>\n",
       "      <td>1.000000</td>\n",
       "    </tr>\n",
       "    <tr>\n",
       "      <th>max</th>\n",
       "      <td>17958.000000</td>\n",
       "      <td>1.000000</td>\n",
       "    </tr>\n",
       "  </tbody>\n",
       "</table>\n",
       "</div>"
      ],
      "text/plain": [
       "         Unnamed: 0         label\n",
       "count  17959.000000  17959.000000\n",
       "mean    8979.000000      0.480261\n",
       "std     5184.461078      0.499624\n",
       "min        0.000000      0.000000\n",
       "25%     4489.500000      0.000000\n",
       "50%     8979.000000      0.000000\n",
       "75%    13468.500000      1.000000\n",
       "max    17958.000000      1.000000"
      ]
     },
     "metadata": {},
     "output_type": "display_data"
    },
    {
     "name": "stdout",
     "output_type": "stream",
     "text": [
      "<class 'pandas.core.frame.DataFrame'>\n",
      "RangeIndex: 17959 entries, 0 to 17958\n",
      "Data columns (total 6 columns):\n",
      " #   Column      Non-Null Count  Dtype \n",
      "---  ------      --------------  ----- \n",
      " 0   Unnamed: 0  17959 non-null  int64 \n",
      " 1   title       17959 non-null  object\n",
      " 2   text        17959 non-null  object\n",
      " 3   subject     17959 non-null  object\n",
      " 4   date        17959 non-null  object\n",
      " 5   label       17959 non-null  int64 \n",
      "dtypes: int64(2), object(4)\n",
      "memory usage: 842.0+ KB\n",
      "None\n"
     ]
    }
   ],
   "source": [
    "# Display firt five rows\n",
    "display(data.head())\n",
    "\n",
    "# Display the summary statistics\n",
    "display(data.describe())\n",
    "\n",
    "# Print the info\n",
    "print(data.info())"
   ]
  },
  {
   "cell_type": "code",
   "execution_count": 5,
   "metadata": {},
   "outputs": [
    {
     "name": "stdout",
     "output_type": "stream",
     "text": [
      "label\n",
      "0    420.281016\n",
      "1    386.715478\n",
      "Name: word_count, dtype: float64\n"
     ]
    },
    {
     "name": "stderr",
     "output_type": "stream",
     "text": [
      "C:\\ProgramData\\Anaconda3\\lib\\site-packages\\seaborn\\distributions.py:2551: FutureWarning: `distplot` is a deprecated function and will be removed in a future version. Please adapt your code to use either `displot` (a figure-level function with similar flexibility) or `histplot` (an axes-level function for histograms).\n",
      "  warnings.warn(msg, FutureWarning)\n",
      "C:\\ProgramData\\Anaconda3\\lib\\site-packages\\seaborn\\distributions.py:2589: RuntimeWarning: Mean of empty slice.\n",
      "  line, = ax.plot(a.mean(), 0)\n",
      "C:\\ProgramData\\Anaconda3\\lib\\site-packages\\numpy\\core\\_methods.py:170: RuntimeWarning: invalid value encountered in double_scalars\n",
      "  ret = ret.dtype.type(ret / rcount)\n",
      "C:\\ProgramData\\Anaconda3\\lib\\site-packages\\numpy\\lib\\histograms.py:905: RuntimeWarning: invalid value encountered in true_divide\n",
      "  return n/db/n.sum(), bin_edges\n"
     ]
    },
    {
     "data": {
      "image/png": "[encoded data removed]",
      "text/plain": [
       "<Figure size 432x288 with 1 Axes>"
      ]
     },
     "metadata": {
      "needs_background": "light"
     },
     "output_type": "display_data"
    }
   ],
   "source": [
    "# Store the number of words in each messages\n",
    "data['word_count'] = data['text'].str.split().str.len()\n",
    "\n",
    "# Print the average number of words in each category\n",
    "print(data.groupby('label')['word_count'].mean())\n",
    "\n",
    "# Visualize the distribution of word counts in each category\n",
    "sns.distplot(data[data['label']=='spam']['word_count'], label='Spam')\n",
    "sns.distplot(data[data['label']=='ham']['word_count'], label='Ham'),\n",
    "plt.legend()\n",
    "plt.show()"
   ]
  },
  {
   "cell_type": "code",
   "execution_count": 6,
   "metadata": {},
   "outputs": [
    {
     "name": "stdout",
     "output_type": "stream",
     "text": [
      "0        [tune, in, to, the, alternate, current, radio,...\n",
      "1        [president, @, realdonaldtrump, :, i, inherite...\n",
      "2        [massachusetts, rep., jim, mcgovern, brought, ...\n",
      "3        [hillary, was, secretary, of, state, an, unima...\n",
      "4        [it, s, almost, as, though, we, don, t, even, ...\n",
      "                               ...                        \n",
      "17954    [washington, (, reuters, ), -, time, magazine,...\n",
      "17955    [21st, century, wire, says, science, fiction, ...\n",
      "17956    [no, matter, which, candidate, you, re, pullin...\n",
      "17957    [after, president, trump, pulled, out, of, the...\n",
      "17958    [donald, trump, supporter, scott, baio, has, f...\n",
      "Name: text, Length: 17959, dtype: object\n"
     ]
    }
   ],
   "source": [
    "# Make the letters lower case and tokenize the words\n",
    "tokenized_texts = data['text'].str.lower().apply(word_tokenize)\n",
    "\n",
    "# Print the tokens to see how it looks like\n",
    "print(tokenized_texts)"
   ]
  },
  {
   "cell_type": "code",
   "execution_count": 7,
   "metadata": {},
   "outputs": [
    {
     "name": "stdout",
     "output_type": "stream",
     "text": [
      "0        [tune, in, to, the, alternate, current, radio,...\n",
      "1        [president, realdonaldtrump, i, inherited, a, ...\n",
      "2        [massachusetts, jim, mcgovern, brought, the, h...\n",
      "3        [hillary, was, secretary, of, state, an, unima...\n",
      "4        [it, s, almost, as, though, we, don, t, even, ...\n",
      "                               ...                        \n",
      "17954    [washington, reuters, time, magazine, named, d...\n",
      "17955    [century, wire, says, science, fiction, is, no...\n",
      "17956    [no, matter, which, candidate, you, re, pullin...\n",
      "17957    [after, president, trump, pulled, out, of, the...\n",
      "17958    [donald, trump, supporter, scott, baio, has, f...\n",
      "Name: text, Length: 17959, dtype: object\n"
     ]
    }
   ],
   "source": [
    "# Define a function to returns only alphanumeric tokens\n",
    "def alpha(tokens):\n",
    "    \"\"\"This function removes all non-alphanumeric characters\"\"\"\n",
    "    alpha = []\n",
    "    for token in tokens:\n",
    "        if str.isalpha(token) or token in ['n\\'t','won\\'t']:\n",
    "            if token=='n\\'t':\n",
    "                alpha.append('not')\n",
    "                continue\n",
    "            elif token == 'won\\'t':\n",
    "                alpha.append('wont')\n",
    "                continue\n",
    "            alpha.append(token)\n",
    "    return alpha\n",
    "\n",
    "# Apply our function to tokens\n",
    "tokenized_texts = tokenized_texts.apply(alpha)\n",
    "\n",
    "print(tokenized_texts)"
   ]
  },
  {
   "cell_type": "code",
   "execution_count": 8,
   "metadata": {},
   "outputs": [
    {
     "name": "stdout",
     "output_type": "stream",
     "text": [
      "0        [tune, alternate, current, radio, network, acr...\n",
      "1        [president, realdonaldtrump, inherited, mess, ...\n",
      "2        [massachusetts, jim, mcgovern, brought, house,...\n",
      "3        [hillary, secretary, state, unimaginable, eart...\n",
      "4        [almost, though, even, constitution, never, le...\n",
      "                               ...                        \n",
      "17954    [washington, reuters, time, magazine, named, d...\n",
      "17955    [century, wire, says, science, fiction, scienc...\n",
      "17956    [matter, candidate, pulling, democratic, presi...\n",
      "17957    [president, trump, pulled, paris, accord, left...\n",
      "17958    [donald, trump, supporter, scott, baio, filed,...\n",
      "Name: text, Length: 17959, dtype: object\n"
     ]
    }
   ],
   "source": [
    "# Define a function to remove stop words\n",
    "def remove_stop_words(tokens):\n",
    "    \"\"\"This function removes all stop words in terms of nltk stopwords\"\"\"\n",
    "    no_stop = []\n",
    "    for token in tokens:\n",
    "        if token not in stopwords.words('english'):\n",
    "            no_stop.append(token)\n",
    "    return no_stop\n",
    "\n",
    "# Apply our function to tokens\n",
    "tokenized_texts = tokenized_texts.apply(remove_stop_words)\n",
    "\n",
    "print(tokenized_texts)"
   ]
  },
  {
   "cell_type": "code",
   "execution_count": 9,
   "metadata": {},
   "outputs": [
    {
     "name": "stdout",
     "output_type": "stream",
     "text": [
      "0        tune alternate current radio network acr anoth...\n",
      "1        president realdonaldtrump inherited mess mess ...\n",
      "2        massachusetts jim mcgovern brought house scath...\n",
      "3        hillary secretary state unimaginable earthquak...\n",
      "4        almost though even constitution never let cris...\n",
      "                               ...                        \n",
      "17954    washington reuters time magazine named donald ...\n",
      "17955    century wire say science fiction science video...\n",
      "17956    matter candidate pulling democratic presidenti...\n",
      "17957    president trump pulled paris accord left went ...\n",
      "17958    donald trump supporter scott baio filed police...\n",
      "Name: text, Length: 17959, dtype: object\n"
     ]
    }
   ],
   "source": [
    "# Define a function to lemmatization\n",
    "def lemmatize(tokens):\n",
    "    \"\"\"This function lemmatize the messages\"\"\"\n",
    "    # Initialize the WordNetLemmatizer\n",
    "    lemmatizer = WordNetLemmatizer()\n",
    "    # Create the lemmatized list\n",
    "    lemmatized = []\n",
    "    for token in tokens:\n",
    "            # Lemmatize and append\n",
    "            lemmatized.append(lemmatizer.lemmatize(token))\n",
    "    return \" \".join(lemmatized)\n",
    "\n",
    "# Apply our function to tokens\n",
    "tokenized_texts = tokenized_texts.apply(lemmatize)\n",
    "\n",
    "print(tokenized_texts)"
   ]
  },
  {
   "cell_type": "code",
   "execution_count": 10,
   "metadata": {},
   "outputs": [
    {
     "data": {
      "text/html": [
       "<div>\n",
       "<style scoped>\n",
       "    .dataframe tbody tr th:only-of-type {\n",
       "        vertical-align: middle;\n",
       "    }\n",
       "\n",
       "    .dataframe tbody tr th {\n",
       "        vertical-align: top;\n",
       "    }\n",
       "\n",
       "    .dataframe thead th {\n",
       "        text-align: right;\n",
       "    }\n",
       "</style>\n",
       "<table border=\"1\" class=\"dataframe\">\n",
       "  <thead>\n",
       "    <tr style=\"text-align: right;\">\n",
       "      <th></th>\n",
       "      <th>Unnamed: 0</th>\n",
       "      <th>title</th>\n",
       "      <th>text</th>\n",
       "      <th>subject</th>\n",
       "      <th>date</th>\n",
       "      <th>label</th>\n",
       "      <th>word_count</th>\n",
       "    </tr>\n",
       "  </thead>\n",
       "  <tbody>\n",
       "    <tr>\n",
       "      <th>0</th>\n",
       "      <td>0</td>\n",
       "      <td>Boiler Room EP #75 – Limited Hangouts, Syria a...</td>\n",
       "      <td>tune alternate current radio network acr anoth...</td>\n",
       "      <td>US_News</td>\n",
       "      <td>September 21, 2016</td>\n",
       "      <td>0</td>\n",
       "      <td>134</td>\n",
       "    </tr>\n",
       "    <tr>\n",
       "      <th>1</th>\n",
       "      <td>1</td>\n",
       "      <td>WATCH: KIM JONG-UN Blows Up US Aircraft Carrie...</td>\n",
       "      <td>president realdonaldtrump inherited mess mess ...</td>\n",
       "      <td>politics</td>\n",
       "      <td>Mar 21, 2017</td>\n",
       "      <td>0</td>\n",
       "      <td>278</td>\n",
       "    </tr>\n",
       "    <tr>\n",
       "      <th>2</th>\n",
       "      <td>2</td>\n",
       "      <td>\\r\\r\\r\\r\\r\\r\\r\\nWATCH: Democratic Rep Delivers...</td>\n",
       "      <td>massachusetts jim mcgovern brought house scath...</td>\n",
       "      <td>News</td>\n",
       "      <td>May 4, 2017</td>\n",
       "      <td>0</td>\n",
       "      <td>576</td>\n",
       "    </tr>\n",
       "    <tr>\n",
       "      <th>3</th>\n",
       "      <td>3</td>\n",
       "      <td>DISASTER CAPITALISTS: How Bill And Hillary’s “...</td>\n",
       "      <td>hillary secretary state unimaginable earthquak...</td>\n",
       "      <td>politics</td>\n",
       "      <td>Oct 7, 2016</td>\n",
       "      <td>0</td>\n",
       "      <td>96</td>\n",
       "    </tr>\n",
       "    <tr>\n",
       "      <th>4</th>\n",
       "      <td>4</td>\n",
       "      <td>OBAMA AND VALERIE JARRETT Finalize Executive A...</td>\n",
       "      <td>almost though even constitution never let cris...</td>\n",
       "      <td>Government News</td>\n",
       "      <td>Dec 11, 2015</td>\n",
       "      <td>0</td>\n",
       "      <td>206</td>\n",
       "    </tr>\n",
       "  </tbody>\n",
       "</table>\n",
       "</div>"
      ],
      "text/plain": [
       "   Unnamed: 0                                              title  \\\n",
       "0           0  Boiler Room EP #75 – Limited Hangouts, Syria a...   \n",
       "1           1  WATCH: KIM JONG-UN Blows Up US Aircraft Carrie...   \n",
       "2           2  \\r\\r\\r\\r\\r\\r\\r\\nWATCH: Democratic Rep Delivers...   \n",
       "3           3  DISASTER CAPITALISTS: How Bill And Hillary’s “...   \n",
       "4           4  OBAMA AND VALERIE JARRETT Finalize Executive A...   \n",
       "\n",
       "                                                text          subject  \\\n",
       "0  tune alternate current radio network acr anoth...          US_News   \n",
       "1  president realdonaldtrump inherited mess mess ...         politics   \n",
       "2  massachusetts jim mcgovern brought house scath...             News   \n",
       "3  hillary secretary state unimaginable earthquak...         politics   \n",
       "4  almost though even constitution never let cris...  Government News   \n",
       "\n",
       "                 date  label  word_count  \n",
       "0  September 21, 2016      0         134  \n",
       "1        Mar 21, 2017      0         278  \n",
       "2         May 4, 2017      0         576  \n",
       "3         Oct 7, 2016      0          96  \n",
       "4        Dec 11, 2015      0         206  "
      ]
     },
     "metadata": {},
     "output_type": "display_data"
    }
   ],
   "source": [
    "# Replace the columns with tokenized messages\n",
    "data['text'] = tokenized_texts\n",
    "\n",
    "# Display the first five rows\n",
    "display(data.head())"
   ]
  },
  {
   "cell_type": "code",
   "execution_count": 11,
   "metadata": {},
   "outputs": [],
   "source": [
    "# Select the features and the target\n",
    "X = data['text']\n",
    "y = data['label']\n",
    "\n"
   ]
  },
  {
   "cell_type": "code",
   "execution_count": 12,
   "metadata": {},
   "outputs": [
    {
     "data": {
      "text/plain": [
       "5124     moscow reuters russia quietly boosting economi...\n",
       "13716    washington reuters republican presidential can...\n",
       "7427     democratic senator dianne feinstein told feder...\n",
       "6828                                                      \n",
       "11538    heading cape cod next end people optic awful h...\n",
       "                               ...                        \n",
       "11810    baghdad reuters kurdistan regional government ...\n",
       "1219     venue new jersey new york pennsylvania califor...\n",
       "8333     pandering like crazy see people stuck play vic...\n",
       "1568     last chance turn conservative ship around put ...\n",
       "1761     norm donald trump clear absolutely preparation...\n",
       "Name: text, Length: 14367, dtype: object"
      ]
     },
     "execution_count": 12,
     "metadata": {},
     "output_type": "execute_result"
    }
   ],
   "source": [
    "X_train, X_test, y_train, y_test = train_test_split(X, y, test_size=0.2, random_state=34, stratify=y)\n",
    "X_train"
   ]
  },
  {
   "cell_type": "code",
   "execution_count": 13,
   "metadata": {},
   "outputs": [],
   "source": [
    "# Create the tf-idf vectorizer\n",
    "vectorizer = TfidfVectorizer(strip_accents='ascii')\n",
    "\n",
    "# First fit the vectorizer with our training set\n",
    "tfidf_train = vectorizer.fit_transform(X_train)\n",
    "\n",
    "# Now we can fit our test data with the same vectorizer\n",
    "tfidf_test = vectorizer.transform(X_test)\n",
    "\n"
   ]
  },
  {
   "cell_type": "code",
   "execution_count": 14,
   "metadata": {},
   "outputs": [
    {
     "name": "stdout",
     "output_type": "stream",
     "text": [
      "Accuracy: 0.9273385300668151\n"
     ]
    }
   ],
   "source": [
    "# Initialize the Multinomial Naive Bayes classifier\n",
    "nb = MultinomialNB()\n",
    "\n",
    "# Fit the model\n",
    "nb.fit(tfidf_train, y_train)\n",
    "\n",
    "# Print the accuracy score\n",
    "print(\"Accuracy:\",nb.score(tfidf_test, y_test))"
   ]
  },
  {
   "cell_type": "code",
   "execution_count": 15,
   "metadata": {},
   "outputs": [
    {
     "name": "stdout",
     "output_type": "stream",
     "text": [
      "Confusion Matrix\n",
      "\n",
      "[[1729  138]\n",
      " [ 123 1602]]\n",
      "\n",
      "\n",
      "Classification Report\n",
      "\n",
      "              precision    recall  f1-score   support\n",
      "\n",
      "           0       0.93      0.93      0.93      1867\n",
      "           1       0.92      0.93      0.92      1725\n",
      "\n",
      "    accuracy                           0.93      3592\n",
      "   macro avg       0.93      0.93      0.93      3592\n",
      "weighted avg       0.93      0.93      0.93      3592\n",
      "\n",
      "\n",
      "ROC AUC Score: 0.9273901399594792\n"
     ]
    },
    {
     "data": {
      "image/png": "[encoded data removed]",
      "text/plain": [
       "<Figure size 432x288 with 1 Axes>"
      ]
     },
     "metadata": {
      "needs_background": "light"
     },
     "output_type": "display_data"
    }
   ],
   "source": [
    "# Predict the labels\n",
    "y_pred = nb.predict(tfidf_test)\n",
    "\n",
    "# Print the Confusion Matrix\n",
    "cm = confusion_matrix(y_test, y_pred)\n",
    "print(\"Confusion Matrix\\n\")\n",
    "print(cm)\n",
    "\n",
    "# Print the Classification Report\n",
    "cr = classification_report(y_test, y_pred)\n",
    "print(\"\\n\\nClassification Report\\n\")\n",
    "print(cr)\n",
    "\n",
    "\n",
    "# Print the Receiver operating characteristic Auc score\n",
    "auc_score = roc_auc_score(y_test, y_pred)\n",
    "print(\"\\nROC AUC Score:\",auc_score)\n",
    "\n",
    "# Get probabilities.\n",
    "y_pred_proba = nb.predict(tfidf_test)\n",
    "\n",
    "# Get False Positive rate, True Positive rate and the threshold\n",
    "fpr, tpr, thresholds = roc_curve(y_test, y_pred_proba)\n",
    "\n",
    "# Visualize the ROC curve.\n",
    "plt.plot(fpr, tpr)\n",
    "plt.plot([0, 1], [0, 1],'r--')\n",
    "plt.xlim([0.0, 1.0])\n",
    "plt.ylim([0.0, 1.05])\n",
    "plt.xlabel('FP Rate')\n",
    "plt.ylabel('TP Rate')\n",
    "plt.title('ROC')\n",
    "plt.show()"
   ]
  },
  {
   "cell_type": "markdown",
   "metadata": {},
   "source": [
    "https://www.kaggle.com/barishasdemir/classification-with-naive-bayes"
   ]
  }
 ],
 "metadata": {
  "kernelspec": {
   "display_name": "Python 3",
   "language": "python",
   "name": "python3"
  },
  "language_info": {
   "codemirror_mode": {
    "name": "ipython",
    "version": 3
   },
   "file_extension": ".py",
   "mimetype": "text/x-python",
   "name": "python",
   "nbconvert_exporter": "python",
   "pygments_lexer": "ipython3",
   "version": "3.8.5"
  }
 },
 "nbformat": 4,
 "nbformat_minor": 4
}
