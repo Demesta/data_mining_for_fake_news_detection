{
 "cells": [
  {
   "cell_type": "code",
   "execution_count": 2,
   "metadata": {},
   "outputs": [
    {
     "name": "stdout",
     "output_type": "stream",
     "text": [
      "   Unnamed: 0                                              title  \\\n",
      "0           0  Obama’s Delusion Continues In Vapid Address To...   \n",
      "1           1  Huge blast in China's Ningbo city kills at lea...   \n",
      "2           2  Trump applauds senators for new healthcare ref...   \n",
      "3           3  UAW chief says Clinton told him she would rene...   \n",
      "4           4  The Las Vegas Mass Shooting – More to the Stor...   \n",
      "\n",
      "                                                text       subject  \\\n",
      "0  Obama addressed the Nation In a nothing burger...      politics   \n",
      "1  BEIJING (Reuters) - A powerful explosion in a ...     worldnews   \n",
      "2  WASHINGTON (Reuters) - President Donald Trump ...  politicsNews   \n",
      "3  (Reuters) - United Auto Workers President Denn...  politicsNews   \n",
      "4  Shawn Helton 21st Century WireAlthough many ar...       US_News   \n",
      "\n",
      "                  date  label  \n",
      "0          Dec 6, 2015      0  \n",
      "1   November 26, 2017       1  \n",
      "2  September 13, 2017       1  \n",
      "3       July 26, 2016       1  \n",
      "4     October 12, 2017      0  \n"
     ]
    },
    {
     "name": "stderr",
     "output_type": "stream",
     "text": [
      "C:\\ProgramData\\Anaconda3\\lib\\site-packages\\gensim\\similarities\\__init__.py:15: UserWarning: The gensim.similarities.levenshtein submodule is disabled, because the optional Levenshtein package <https://pypi.org/project/python-Levenshtein/> is unavailable. Install Levenhstein (e.g. `pip install python-Levenshtein`) to suppress this warning.\n",
      "  warnings.warn(msg)\n"
     ]
    }
   ],
   "source": [
    "# This Python 3 environment comes with many helpful analytics libraries installed\n",
    "# It is defined by the kaggle/python docker image: https://github.com/kaggle/docker-python\n",
    "# For example, here's several helpful packages to load in \n",
    "\n",
    "import numpy as np # linear algebra\n",
    "import pandas as pd # data processing, CSV file I/O (e.g. pd.read_csv)\n",
    "from sklearn.model_selection import train_test_split #split data into train and test sets\n",
    "from sklearn.feature_extraction.text import CountVectorizer #convert text comment into a numeric vector\n",
    "from sklearn.feature_extraction.text import TfidfTransformer #use TF IDF transformer to change text vector created by count vectorizer\n",
    "from sklearn.svm import SVC# Support Vector Machine\n",
    "from sklearn.pipeline import Pipeline #pipeline to implement steps in series\n",
    "from gensim import parsing # To stem data\n",
    "\n",
    "# Input data files are available in the \"../input/\" directory.\n",
    "# For example, running this (by clicking run or pressing Shift+Enter) will list the files in the input directory\n",
    "\n",
    "\n",
    "#Read csv into a dataframe\n",
    "df = pd.read_csv(\"./train.csv\")\n",
    "#print first 5 rows of dataset\n",
    "print(df.head())\n",
    "\n",
    "# Any results you write to the current directory are saved as output."
   ]
  },
  {
   "cell_type": "code",
   "execution_count": 7,
   "metadata": {},
   "outputs": [
    {
     "name": "stdout",
     "output_type": "stream",
     "text": [
      "              precision    recall  f1-score   support\n",
      "\n",
      "           0       1.00      0.73      0.84        11\n",
      "           1       0.82      1.00      0.90        14\n",
      "\n",
      "    accuracy                           0.88        25\n",
      "   macro avg       0.91      0.86      0.87        25\n",
      "weighted avg       0.90      0.88      0.88        25\n",
      "\n",
      "[[ 8  3]\n",
      " [ 0 14]]\n"
     ]
    }
   ],
   "source": [
    "\n",
    "from sklearn.metrics import classification_report, confusion_matrix\n",
    "\n",
    "#for grouping similar words such as 'trying\" and \"try\" are same words\n",
    "def parse(s):\n",
    "    parsing.stem_text(s)\n",
    "    return s\n",
    "\n",
    "#applying parsing to comments.\n",
    "for i in range(0,len(df)):\n",
    "    df.iloc[i,2]=parse(df.iloc[i,2])\n",
    "    \n",
    "#Seperate data into feature and results\n",
    "X, y = df['text'].tolist(), df['label'].tolist()\n",
    "\n",
    "#Split data in train and test sets.\n",
    "X_train, X_test, y_train, y_test = train_test_split(X, y, test_size=0.25)\n",
    "\n",
    "\n",
    "\n",
    "#Use pipeline to carry out steps in sequence with a single object\n",
    "#SVM's rbf kernel gives highest accuracy in this classification problem.\n",
    "text_clf = Pipeline([('vect', CountVectorizer()), ('tfidf', TfidfTransformer()), ('clf', SVC(kernel='rbf'))])\n",
    "\n",
    "#train model\n",
    "text_clf.fit(X_train, y_train)\n",
    "\n",
    "ytest = np.array(y_test)\n",
    "\n",
    "# #predict class form test data \n",
    "# predicted = text_clf.predict(X_test)\n",
    "\n",
    "\n",
    "# confusion matrix and classification report(precision, recall, F1-score)\n",
    "print(classification_report(ytest, text_clf.predict(X_test)))\n",
    "print(confusion_matrix(ytest, text_clf.predict(X_test)))\n",
    "\n"
   ]
  }
 ],
 "metadata": {
  "kernelspec": {
   "display_name": "Python 3",
   "language": "python",
   "name": "python3"
  },
  "language_info": {
   "codemirror_mode": {
    "name": "ipython",
    "version": 3
   },
   "file_extension": ".py",
   "mimetype": "text/x-python",
   "name": "python",
   "nbconvert_exporter": "python",
   "pygments_lexer": "ipython3",
   "version": "3.8.5"
  }
 },
 "nbformat": 4,
 "nbformat_minor": 4
}
