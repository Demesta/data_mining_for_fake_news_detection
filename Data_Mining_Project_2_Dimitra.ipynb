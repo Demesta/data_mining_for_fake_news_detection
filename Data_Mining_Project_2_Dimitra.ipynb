{
 "cells": [
  {
   "cell_type": "code",
   "execution_count": 1,
   "metadata": {},
   "outputs": [
    {
     "name": "stderr",
     "output_type": "stream",
     "text": [
      "[nltk_data] Downloading package stopwords to\n",
      "[nltk_data]     C:\\Users\\dimik\\AppData\\Roaming\\nltk_data...\n",
      "[nltk_data]   Package stopwords is already up-to-date!\n"
     ]
    }
   ],
   "source": [
    "# Importing Libraries\n",
    "\n",
    "import numpy as np\n",
    "import pandas as pd\n",
    "from matplotlib import pyplot as plt\n",
    "import nltk\n",
    "nltk.download('stopwords')\n",
    "\n",
    "%matplotlib inline\n"
   ]
  },
  {
   "cell_type": "code",
   "execution_count": 2,
   "metadata": {},
   "outputs": [
    {
     "data": {
      "text/html": [
       "<div>\n",
       "<style scoped>\n",
       "    .dataframe tbody tr th:only-of-type {\n",
       "        vertical-align: middle;\n",
       "    }\n",
       "\n",
       "    .dataframe tbody tr th {\n",
       "        vertical-align: top;\n",
       "    }\n",
       "\n",
       "    .dataframe thead th {\n",
       "        text-align: right;\n",
       "    }\n",
       "</style>\n",
       "<table border=\"1\" class=\"dataframe\">\n",
       "  <thead>\n",
       "    <tr style=\"text-align: right;\">\n",
       "      <th></th>\n",
       "      <th>title</th>\n",
       "      <th>text</th>\n",
       "      <th>subject</th>\n",
       "      <th>date</th>\n",
       "    </tr>\n",
       "  </thead>\n",
       "  <tbody>\n",
       "    <tr>\n",
       "      <th>0</th>\n",
       "      <td>As U.S. budget fight looms, Republicans flip t...</td>\n",
       "      <td>WASHINGTON (Reuters) - The head of a conservat...</td>\n",
       "      <td>politicsNews</td>\n",
       "      <td>December 31, 2017</td>\n",
       "    </tr>\n",
       "    <tr>\n",
       "      <th>1</th>\n",
       "      <td>U.S. military to accept transgender recruits o...</td>\n",
       "      <td>WASHINGTON (Reuters) - Transgender people will...</td>\n",
       "      <td>politicsNews</td>\n",
       "      <td>December 29, 2017</td>\n",
       "    </tr>\n",
       "    <tr>\n",
       "      <th>2</th>\n",
       "      <td>Senior U.S. Republican senator: 'Let Mr. Muell...</td>\n",
       "      <td>WASHINGTON (Reuters) - The special counsel inv...</td>\n",
       "      <td>politicsNews</td>\n",
       "      <td>December 31, 2017</td>\n",
       "    </tr>\n",
       "    <tr>\n",
       "      <th>3</th>\n",
       "      <td>FBI Russia probe helped by Australian diplomat...</td>\n",
       "      <td>WASHINGTON (Reuters) - Trump campaign adviser ...</td>\n",
       "      <td>politicsNews</td>\n",
       "      <td>December 30, 2017</td>\n",
       "    </tr>\n",
       "    <tr>\n",
       "      <th>4</th>\n",
       "      <td>Trump wants Postal Service to charge 'much mor...</td>\n",
       "      <td>SEATTLE/WASHINGTON (Reuters) - President Donal...</td>\n",
       "      <td>politicsNews</td>\n",
       "      <td>December 29, 2017</td>\n",
       "    </tr>\n",
       "    <tr>\n",
       "      <th>...</th>\n",
       "      <td>...</td>\n",
       "      <td>...</td>\n",
       "      <td>...</td>\n",
       "      <td>...</td>\n",
       "    </tr>\n",
       "    <tr>\n",
       "      <th>21412</th>\n",
       "      <td>'Fully committed' NATO backs new U.S. approach...</td>\n",
       "      <td>BRUSSELS (Reuters) - NATO allies on Tuesday we...</td>\n",
       "      <td>worldnews</td>\n",
       "      <td>August 22, 2017</td>\n",
       "    </tr>\n",
       "    <tr>\n",
       "      <th>21413</th>\n",
       "      <td>LexisNexis withdrew two products from Chinese ...</td>\n",
       "      <td>LONDON (Reuters) - LexisNexis, a provider of l...</td>\n",
       "      <td>worldnews</td>\n",
       "      <td>August 22, 2017</td>\n",
       "    </tr>\n",
       "    <tr>\n",
       "      <th>21414</th>\n",
       "      <td>Minsk cultural hub becomes haven from authorities</td>\n",
       "      <td>MINSK (Reuters) - In the shadow of disused Sov...</td>\n",
       "      <td>worldnews</td>\n",
       "      <td>August 22, 2017</td>\n",
       "    </tr>\n",
       "    <tr>\n",
       "      <th>21415</th>\n",
       "      <td>Vatican upbeat on possibility of Pope Francis ...</td>\n",
       "      <td>MOSCOW (Reuters) - Vatican Secretary of State ...</td>\n",
       "      <td>worldnews</td>\n",
       "      <td>August 22, 2017</td>\n",
       "    </tr>\n",
       "    <tr>\n",
       "      <th>21416</th>\n",
       "      <td>Indonesia to buy $1.14 billion worth of Russia...</td>\n",
       "      <td>JAKARTA (Reuters) - Indonesia will buy 11 Sukh...</td>\n",
       "      <td>worldnews</td>\n",
       "      <td>August 22, 2017</td>\n",
       "    </tr>\n",
       "  </tbody>\n",
       "</table>\n",
       "<p>21417 rows × 4 columns</p>\n",
       "</div>"
      ],
      "text/plain": [
       "                                                   title  \\\n",
       "0      As U.S. budget fight looms, Republicans flip t...   \n",
       "1      U.S. military to accept transgender recruits o...   \n",
       "2      Senior U.S. Republican senator: 'Let Mr. Muell...   \n",
       "3      FBI Russia probe helped by Australian diplomat...   \n",
       "4      Trump wants Postal Service to charge 'much mor...   \n",
       "...                                                  ...   \n",
       "21412  'Fully committed' NATO backs new U.S. approach...   \n",
       "21413  LexisNexis withdrew two products from Chinese ...   \n",
       "21414  Minsk cultural hub becomes haven from authorities   \n",
       "21415  Vatican upbeat on possibility of Pope Francis ...   \n",
       "21416  Indonesia to buy $1.14 billion worth of Russia...   \n",
       "\n",
       "                                                    text       subject  \\\n",
       "0      WASHINGTON (Reuters) - The head of a conservat...  politicsNews   \n",
       "1      WASHINGTON (Reuters) - Transgender people will...  politicsNews   \n",
       "2      WASHINGTON (Reuters) - The special counsel inv...  politicsNews   \n",
       "3      WASHINGTON (Reuters) - Trump campaign adviser ...  politicsNews   \n",
       "4      SEATTLE/WASHINGTON (Reuters) - President Donal...  politicsNews   \n",
       "...                                                  ...           ...   \n",
       "21412  BRUSSELS (Reuters) - NATO allies on Tuesday we...     worldnews   \n",
       "21413  LONDON (Reuters) - LexisNexis, a provider of l...     worldnews   \n",
       "21414  MINSK (Reuters) - In the shadow of disused Sov...     worldnews   \n",
       "21415  MOSCOW (Reuters) - Vatican Secretary of State ...     worldnews   \n",
       "21416  JAKARTA (Reuters) - Indonesia will buy 11 Sukh...     worldnews   \n",
       "\n",
       "                     date  \n",
       "0      December 31, 2017   \n",
       "1      December 29, 2017   \n",
       "2      December 31, 2017   \n",
       "3      December 30, 2017   \n",
       "4      December 29, 2017   \n",
       "...                   ...  \n",
       "21412    August 22, 2017   \n",
       "21413    August 22, 2017   \n",
       "21414    August 22, 2017   \n",
       "21415    August 22, 2017   \n",
       "21416    August 22, 2017   \n",
       "\n",
       "[21417 rows x 4 columns]"
      ]
     },
     "execution_count": 2,
     "metadata": {},
     "output_type": "execute_result"
    }
   ],
   "source": [
    "LocationTrue = r'./True.csv'\n",
    "LocationFake = r'./Fake.csv'\n",
    "\n",
    "dfTrue = pd.read_csv(LocationTrue)\n",
    "dfFake = pd.read_csv(LocationFake)\n",
    "\n",
    "dfTrue\n",
    "\n",
    "\n"
   ]
  },
  {
   "cell_type": "markdown",
   "metadata": {},
   "source": [
    "### 1. Preproccessing\n"
   ]
  },
  {
   "cell_type": "code",
   "execution_count": null,
   "metadata": {},
   "outputs": [],
   "source": []
  },
  {
   "cell_type": "markdown",
   "metadata": {},
   "source": [
    "### 2. Data Exploration"
   ]
  },
  {
   "cell_type": "code",
   "execution_count": 3,
   "metadata": {},
   "outputs": [],
   "source": [
    "def titleMeaning(dataframe):\n",
    "        stop_words = set(nltk.corpus.stopwords.words('english'))\n",
    "        \n",
    "        titles = dataframe['title'].tolist()\n",
    "        texts = dataframe['text'].tolist()\n",
    "        \n",
    "#         for i in range(len(titles)):\n",
    "            \n",
    "\n",
    "        \n",
    "titleMeaning(dfTrue)\n",
    "titleMeaning(dfFake)"
   ]
  },
  {
   "cell_type": "code",
   "execution_count": 4,
   "metadata": {},
   "outputs": [
    {
     "name": "stdout",
     "output_type": "stream",
     "text": [
      "As U.S. budget fight looms, Republicans flip their fiscal script\n",
      " Donald Trump Sends Out Embarrassing New Year’s Eve Message; This is Disturbing\n"
     ]
    }
   ],
   "source": [
    "\n",
    "\n",
    "title = dfTrue['title'][0]\n",
    "text = dfTrue['text'][0]\n",
    "\n",
    "total_words = title.split()\n",
    "\n",
    "print(title)\n",
    "\n",
    "\n",
    "title = dfFake['title'][0]\n",
    "text = dfFake['text'][0]\n",
    "\n",
    "total_words = title.split()\n",
    "\n",
    "print(title)"
   ]
  },
  {
   "cell_type": "markdown",
   "metadata": {},
   "source": [
    "# 2.β : "
   ]
  },
  {
   "cell_type": "code",
   "execution_count": 5,
   "metadata": {
    "scrolled": true
   },
   "outputs": [
    {
     "name": "stdout",
     "output_type": "stream",
     "text": [
      "Mesos oros charakthrwn  sta true news titles: 64\n",
      "Mesos oros charakthrwn  sta fake news titles: 94\n"
     ]
    },
    {
     "data": {
      "image/png": "[encoded data removed]",
      "text/plain": [
       "<Figure size 432x288 with 1 Axes>"
      ]
     },
     "metadata": {
      "needs_background": "light"
     },
     "output_type": "display_data"
    }
   ],
   "source": [
    "#mesos oros gia true titles :\n",
    "\n",
    "dfTrue_titles = dfTrue.copy()\n",
    "\n",
    "dfTrue_titles = pd.DataFrame(dfTrue_titles, columns=['title'])\n",
    "dfTrue_titles = dfTrue_titles.values.tolist()\n",
    "\n",
    "num_titles_true=0\n",
    "for i in dfTrue_titles:\n",
    "    num_titles_true=num_titles_true+1   \n",
    "    \n",
    "count = 0\n",
    "total_len = 0\n",
    "for i in dfTrue_titles:\n",
    "    str = dfTrue_titles[count]\n",
    "    count = count+1\n",
    "    \n",
    "    curr_str = str[0]\n",
    "    total_len = total_len + len(curr_str)\n",
    "\n",
    "average_chars = total_len / (count-1)\n",
    "average_chars = int(average_chars)\n",
    "av_tr = average_chars\n",
    "print(\"Mesos oros charakthrwn  sta true news titles:\", average_chars)\n",
    "\n",
    "\n",
    "#mesos oros gia fake titles :\n",
    "\n",
    "dfFake_titles = dfFake.copy()\n",
    "\n",
    "dfFake_titles = pd.DataFrame(dfFake_titles, columns=['title'])\n",
    "dfFake_titles = dfFake_titles.values.tolist()\n",
    "\n",
    "num_titles_fake=0\n",
    "for i in dfFake_titles:\n",
    "    num_titles_fake=num_titles_fake+1\n",
    "    \n",
    "    \n",
    "count = 0\n",
    "total_len = 0\n",
    "average_chars = 0\n",
    "for i in dfFake_titles:\n",
    "    str = dfFake_titles[count]\n",
    "    count = count+1\n",
    "    \n",
    "    curr_str = str[0]\n",
    "    total_len = total_len + len(curr_str)\n",
    "\n",
    "average_chars = total_len / (count-1)\n",
    "average_chars = int(average_chars)\n",
    "av_fal = average_chars\n",
    "print(\"Mesos oros charakthrwn  sta fake news titles:\", average_chars)\n",
    "\n",
    "#grafhma\n",
    "\n",
    "fig = plt.figure()\n",
    "ax = fig.add_axes([0,0,1,1])\n",
    "titles = ['Titles of True News', 'Titles of Fake News']\n",
    "nums = [av_tr, av_fal]\n",
    "ax.bar(titles, nums)\n",
    "plt.show()\n"
   ]
  },
  {
   "cell_type": "code",
   "execution_count": 6,
   "metadata": {},
   "outputs": [
    {
     "name": "stdout",
     "output_type": "stream",
     "text": [
      "Mesos oros charakthrwn  sta true news texts: 2383\n",
      "Mesos oros charakthrwn  sta fake news texts: 2547\n"
     ]
    },
    {
     "data": {
      "image/png": "[encoded data removed]",
      "text/plain": [
       "<Figure size 432x288 with 1 Axes>"
      ]
     },
     "metadata": {
      "needs_background": "light"
     },
     "output_type": "display_data"
    }
   ],
   "source": [
    "#mesos oros gia true texts:\n",
    "\n",
    "dfTrue_texts = dfTrue.copy()\n",
    "\n",
    "dfTrue_texts = dfTrue['text'].tolist()\n",
    "\n",
    "num_texts_true = len(dfTrue_texts)\n",
    "    \n",
    "count = 0\n",
    "total_len = 0\n",
    "average_chars = 0\n",
    "for i in dfTrue_texts:\n",
    "    str = dfTrue_texts[count]\n",
    "    count = count+1\n",
    "        \n",
    "    curr_str = str\n",
    "    total_len = total_len + len(curr_str)\n",
    "\n",
    "average_chars = total_len / (count-1)\n",
    "average_chars = int(average_chars)\n",
    "av_tr = average_chars\n",
    "print(\"Mesos oros charakthrwn  sta true news texts:\", average_chars)\n",
    "\n",
    "#mesos oros gia fake texts:\n",
    "\n",
    "dfFake_texts = dfFake.copy()\n",
    "\n",
    "dfFake_texts = dfFake['text'].tolist()\n",
    "\n",
    "num_texts_fake = len(dfFake_texts)\n",
    "    \n",
    "count = 0\n",
    "total_len = 0\n",
    "average_chars = 0\n",
    "for i in dfFake_texts:\n",
    "    str = dfFake_texts[count]\n",
    "    count = count+1\n",
    "        \n",
    "    curr_str = str\n",
    "    total_len = total_len + len(curr_str)\n",
    "\n",
    "average_chars = total_len / (count-1)\n",
    "average_chars = int(average_chars)\n",
    "av_fal = average_chars\n",
    "print(\"Mesos oros charakthrwn  sta fake news texts:\", average_chars)\n",
    "\n",
    "#grafhma\n",
    "\n",
    "fig = plt.figure()\n",
    "ax = fig.add_axes([0,0,1,1])\n",
    "titles = ['Texts of True News', 'Texts of Fake News']\n",
    "nums = [av_tr, av_fal]\n",
    "ax.bar(titles, nums)\n",
    "plt.show()"
   ]
  },
  {
   "cell_type": "markdown",
   "metadata": {},
   "source": [
    "# 2.γ :"
   ]
  },
  {
   "cell_type": "code",
   "execution_count": 7,
   "metadata": {},
   "outputs": [
    {
     "name": "stdout",
     "output_type": "stream",
     "text": [
      "H sthlh titles sta true exei synolika 213195 lekseis\n",
      "H sthlh text sta true exei synolika 8259254 lekseis\n"
     ]
    },
    {
     "data": {
      "image/png": "[encoded data removed]",
      "text/plain": [
       "<Figure size 432x288 with 1 Axes>"
      ]
     },
     "metadata": {
      "needs_background": "light"
     },
     "output_type": "display_data"
    }
   ],
   "source": [
    "#arxeio True\n",
    "\n",
    "dfTrue_titles = dfTrue.copy()\n",
    "\n",
    "dfTrue_titles = pd.DataFrame(dfTrue_titles, columns=['title'])\n",
    "dfTrue_titles = dfTrue_titles.values.tolist()\n",
    "\n",
    "num_titles_true=0\n",
    "for i in dfTrue_titles:\n",
    "    num_titles_true=num_titles_true+1   \n",
    "    \n",
    "count = 0\n",
    "words = 0\n",
    "for i in dfTrue_titles:\n",
    "    str = dfTrue_titles[count]\n",
    "    count = count+1\n",
    "    \n",
    "    curr_str = str[0]\n",
    "    word_list = curr_str.split()\n",
    "    words = words + len(word_list)\n",
    "    \n",
    "true_titles_words = words    \n",
    "     \n",
    "print(\"H sthlh titles sta true exei synolika\", words , \"lekseis\") \n",
    "\n",
    "dfTrue_texts = dfTrue.copy()\n",
    "\n",
    "dfTrue_texts = pd.DataFrame(dfTrue_texts, columns=['text'])\n",
    "dfTrue_texts = dfTrue_texts.values.tolist()\n",
    "\n",
    "num_texts_true=0\n",
    "for i in dfTrue_texts:\n",
    "    num_texts_true=num_texts_true+1   \n",
    "    \n",
    "count = 0\n",
    "words = 0\n",
    "for i in dfTrue_texts:\n",
    "    str = dfTrue_texts[count]\n",
    "    count = count+1\n",
    "    \n",
    "    curr_str = str[0]\n",
    "    word_list = curr_str.split()\n",
    "    words = words + len(word_list)\n",
    "    \n",
    "true_texts_words = words    \n",
    "     \n",
    "print(\"H sthlh text sta true exei synolika\", words , \"lekseis\")  \n",
    "\n",
    "#grafhma\n",
    "\n",
    "fig = plt.figure()\n",
    "ax = fig.add_axes([0,0,1,1])\n",
    "titles = ['Words of True titles', 'words of True texts']\n",
    "nums = [true_titles_words, true_texts_words]\n",
    "ax.bar(titles, nums)\n",
    "plt.show()\n",
    "    \n",
    "    "
   ]
  },
  {
   "cell_type": "code",
   "execution_count": 8,
   "metadata": {},
   "outputs": [
    {
     "name": "stdout",
     "output_type": "stream",
     "text": [
      "H sthlh titles sta fake exei synolika 345941 lekseis\n",
      "H sthlh text sta fake exei synolika 9937110 lekseis\n"
     ]
    },
    {
     "data": {
      "image/png": "[encoded data removed]",
      "text/plain": [
       "<Figure size 432x288 with 1 Axes>"
      ]
     },
     "metadata": {
      "needs_background": "light"
     },
     "output_type": "display_data"
    }
   ],
   "source": [
    "#arxeio Fake\n",
    "\n",
    "dfFake_titles = dfFake.copy()\n",
    "\n",
    "dfFake_titles = pd.DataFrame(dfFake_titles, columns=['title'])\n",
    "dfFake_titles = dfFake_titles.values.tolist()\n",
    "\n",
    "num_titles_fake=0\n",
    "for i in dfTrue_titles:\n",
    "    num_titles_fake=num_titles_fake+1   \n",
    "    \n",
    "count = 0\n",
    "words = 0\n",
    "for i in dfFake_titles:\n",
    "    str = dfFake_titles[count]\n",
    "    count = count+1\n",
    "    \n",
    "    curr_str = str[0]\n",
    "    word_list = curr_str.split()\n",
    "    words = words + len(word_list)\n",
    "    \n",
    "fake_titles_words = words       \n",
    "     \n",
    "print(\"H sthlh titles sta fake exei synolika\", words , \"lekseis\") \n",
    "\n",
    "dfFake_texts = dfFake.copy()\n",
    "\n",
    "dfFake_texts = pd.DataFrame(dfFake_texts, columns=['text'])\n",
    "dfFake_texts = dfFake_texts.values.tolist()\n",
    "\n",
    "num_texts_fake=0\n",
    "for i in dfFake_texts:\n",
    "    num_texts_fake=num_texts_fake+1   \n",
    "    \n",
    "count = 0\n",
    "words = 0\n",
    "for i in dfFake_texts:\n",
    "    str = dfFake_texts[count]\n",
    "    count = count+1\n",
    "    \n",
    "    curr_str = str[0]\n",
    "    word_list = curr_str.split()\n",
    "    words = words + len(word_list)\n",
    "    \n",
    "fake_texts_words = words    \n",
    "     \n",
    "print(\"H sthlh text sta fake exei synolika\", words , \"lekseis\")  \n",
    "\n",
    "#grafhma\n",
    "\n",
    "fig = plt.figure()\n",
    "ax = fig.add_axes([0,0,1,1])\n",
    "titles = ['Words of Fake titles', 'words of Fake texts']\n",
    "nums = [fake_titles_words, fake_texts_words]\n",
    "ax.bar(titles, nums)\n",
    "plt.show()"
   ]
  },
  {
   "cell_type": "markdown",
   "metadata": {},
   "source": [
    "# 2.δ :"
   ]
  },
  {
   "cell_type": "code",
   "execution_count": 20,
   "metadata": {},
   "outputs": [
    {
     "name": "stderr",
     "output_type": "stream",
     "text": [
      "[nltk_data] Downloading package punkt to\n",
      "[nltk_data]     C:\\Users\\dimik\\AppData\\Roaming\\nltk_data...\n",
      "[nltk_data]   Package punkt is already up-to-date!\n"
     ]
    },
    {
     "name": "stdout",
     "output_type": "stream",
     "text": [
      "H sthlh titles sta true exei synolika 192775 lekseis\n",
      "H sthlh text sta true exei synolika 6177937 lekseis\n"
     ]
    },
    {
     "data": {
      "image/png": "[encoded data removed]",
      "text/plain": [
       "<Figure size 432x288 with 1 Axes>"
      ]
     },
     "metadata": {
      "needs_background": "light"
     },
     "output_type": "display_data"
    }
   ],
   "source": [
    "#arxeio True\n",
    "\n",
    "nltk.download('punkt')\n",
    "\n",
    "from nltk.corpus import stopwords\n",
    "from nltk.tokenize import word_tokenize\n",
    "\n",
    "#titles\n",
    "\n",
    "stop_words = set(stopwords.words('english'))\n",
    "\n",
    "dfTrue_titles = dfTrue.copy()\n",
    "\n",
    "dfTrue_titles = pd.DataFrame(dfTrue_titles, columns=['title'])\n",
    "dfTrue_titles = dfTrue_titles.values.tolist()\n",
    "\n",
    "num_titles_true=0\n",
    "for i in dfTrue_titles:\n",
    "    num_titles_true=num_titles_true+1   \n",
    "    \n",
    "count = 0\n",
    "words = 0\n",
    "for i in dfTrue_titles:\n",
    "    str = dfTrue_titles[count]\n",
    "    count = count+1\n",
    "    \n",
    "    curr_str = str[0]\n",
    "    \n",
    "    word_tokens = word_tokenize(curr_str)\n",
    "    \n",
    "    filtered_sentence = [w for w in word_tokens if not w.lower() in stop_words]\n",
    " \n",
    "    filtered_sentence = []\n",
    " \n",
    "    for w in word_tokens:\n",
    "        if w not in stop_words:\n",
    "            filtered_sentence.append(w)\n",
    "      \n",
    "    curr_words = 0\n",
    "    for word in filtered_sentence:\n",
    "         curr_words = curr_words + 1\n",
    "    \n",
    "    words = words + curr_words\n",
    "    \n",
    "true_titles_words = words    \n",
    "     \n",
    "print(\"H sthlh titles sta true exei synolika\", words , \"lekseis\") \n",
    "\n",
    "#texts\n",
    "\n",
    "stop_words = set(stopwords.words('english'))\n",
    "\n",
    "dfTrue_texts = dfTrue.copy()\n",
    "\n",
    "dfTrue_texts = pd.DataFrame(dfTrue_texts, columns=['text'])\n",
    "dfTrue_texts = dfTrue_texts.values.tolist()\n",
    "\n",
    "num_texts_true=0\n",
    "for i in dfTrue_texts:\n",
    "    num_texts_true=num_texts_true+1   \n",
    "    \n",
    "count = 0\n",
    "words = 0\n",
    "for i in dfTrue_texts:\n",
    "    str = dfTrue_texts[count]\n",
    "    count = count+1\n",
    "    \n",
    "    curr_str = str[0]\n",
    "        \n",
    "    word_tokens2 = word_tokenize(curr_str)\n",
    "    \n",
    "    filtered_sentence2 = [w for w in word_tokens2 if not w.lower() in stop_words]\n",
    " \n",
    "    filtered_sentence2 = []\n",
    " \n",
    "    for w in word_tokens2:\n",
    "        if w not in stop_words:\n",
    "            filtered_sentence2.append(w)\n",
    "      \n",
    "    curr_words = 0\n",
    "    for word in filtered_sentence2:\n",
    "         curr_words = curr_words + 1\n",
    "                \n",
    "    words = words + curr_words\n",
    "    \n",
    "true_texts_words = words    \n",
    "     \n",
    "print(\"H sthlh text sta true exei synolika\", words , \"lekseis\")  \n",
    "\n",
    "#grafhma\n",
    "\n",
    "fig = plt.figure()\n",
    "ax = fig.add_axes([0,0,1,1])\n",
    "titles = ['Words of True titles', 'words of True texts']\n",
    "nums = [true_titles_words, true_texts_words]\n",
    "ax.bar(titles, nums)\n",
    "plt.show()\n",
    "\n"
   ]
  },
  {
   "cell_type": "code",
   "execution_count": 21,
   "metadata": {},
   "outputs": [
    {
     "name": "stderr",
     "output_type": "stream",
     "text": [
      "[nltk_data] Downloading package punkt to\n",
      "[nltk_data]     C:\\Users\\dimik\\AppData\\Roaming\\nltk_data...\n",
      "[nltk_data]   Package punkt is already up-to-date!\n"
     ]
    },
    {
     "name": "stdout",
     "output_type": "stream",
     "text": [
      "H sthlh titles sta true exei synolika 406561 lekseis\n",
      "H sthlh text sta true exei synolika 6935100 lekseis\n"
     ]
    },
    {
     "data": {
      "image/png": "[encoded data removed]",
      "text/plain": [
       "<Figure size 432x288 with 1 Axes>"
      ]
     },
     "metadata": {
      "needs_background": "light"
     },
     "output_type": "display_data"
    }
   ],
   "source": [
    "#arxeio Fake\n",
    "\n",
    "nltk.download('punkt')\n",
    "\n",
    "from nltk.corpus import stopwords\n",
    "from nltk.tokenize import word_tokenize\n",
    "\n",
    "#titles\n",
    "\n",
    "stop_words = set(stopwords.words('english'))\n",
    "\n",
    "dfFake_titles = dfFake.copy()\n",
    "\n",
    "dfFake_titles = pd.DataFrame(dfFake_titles, columns=['title'])\n",
    "dfFake_titles = dfFake_titles.values.tolist()\n",
    "\n",
    "num_titles_fake=0\n",
    "for i in dfFake_titles:\n",
    "    num_titles_fake=num_titles_fake+1   \n",
    "    \n",
    "count = 0\n",
    "words = 0\n",
    "for i in dfFake_titles:\n",
    "    str = dfFake_titles[count]\n",
    "    count = count+1\n",
    "    \n",
    "    curr_str = str[0]\n",
    "    \n",
    "    word_tokens = word_tokenize(curr_str)\n",
    "    \n",
    "    filtered_sentence = [w for w in word_tokens if not w.lower() in stop_words]\n",
    " \n",
    "    filtered_sentence = []\n",
    " \n",
    "    for w in word_tokens:\n",
    "        if w not in stop_words:\n",
    "            filtered_sentence.append(w)\n",
    "      \n",
    "    curr_words = 0\n",
    "    for word in filtered_sentence:\n",
    "         curr_words = curr_words + 1\n",
    "    \n",
    "    words = words + curr_words\n",
    "    \n",
    "fake_titles_words = words    \n",
    "     \n",
    "print(\"H sthlh titles sta true exei synolika\", words , \"lekseis\") \n",
    "\n",
    "#texts\n",
    "\n",
    "stop_words = set(stopwords.words('english'))\n",
    "\n",
    "dfFake_texts = dfFake.copy()\n",
    "\n",
    "dfFake_texts = pd.DataFrame(dfFake_texts, columns=['text'])\n",
    "dfFake_texts = dfFake_texts.values.tolist()\n",
    "\n",
    "num_texts_fake=0\n",
    "for i in dfFake_texts:\n",
    "    num_texts_true=num_texts_true+1   \n",
    "    \n",
    "count = 0\n",
    "words = 0\n",
    "for i in dfFake_texts:\n",
    "    str = dfFake_texts[count]\n",
    "    count = count+1\n",
    "    \n",
    "    curr_str = str[0]\n",
    "        \n",
    "    word_tokens2 = word_tokenize(curr_str)\n",
    "    \n",
    "    filtered_sentence2 = [w for w in word_tokens2 if not w.lower() in stop_words]\n",
    " \n",
    "    filtered_sentence2 = []\n",
    " \n",
    "    for w in word_tokens2:\n",
    "        if w not in stop_words:\n",
    "            filtered_sentence2.append(w)\n",
    "      \n",
    "    curr_words = 0\n",
    "    for word in filtered_sentence2:\n",
    "         curr_words = curr_words + 1\n",
    "                \n",
    "    words = words + curr_words\n",
    "    \n",
    "fake_texts_words = words    \n",
    "     \n",
    "print(\"H sthlh text sta true exei synolika\", words , \"lekseis\")  \n",
    "\n",
    "#grafhma\n",
    "\n",
    "fig = plt.figure()\n",
    "ax = fig.add_axes([0,0,1,1])\n",
    "titles = ['Words of True titles', 'words of True texts']\n",
    "nums = [fake_titles_words, fake_texts_words]\n",
    "ax.bar(titles, nums)\n",
    "plt.show()"
   ]
  },
  {
   "cell_type": "markdown",
   "metadata": {},
   "source": [
    "# 3. Training"
   ]
  },
  {
   "cell_type": "code",
   "execution_count": null,
   "metadata": {},
   "outputs": [],
   "source": []
  }
 ],
 "metadata": {
  "kernelspec": {
   "display_name": "Python 3",
   "language": "python",
   "name": "python3"
  }
 },
 "nbformat": 4,
 "nbformat_minor": 4
}
